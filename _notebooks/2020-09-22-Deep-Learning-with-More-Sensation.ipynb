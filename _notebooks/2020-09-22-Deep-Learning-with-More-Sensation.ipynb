{
 "cells": [
  {
   "cell_type": "markdown",
   "metadata": {},
   "source": [
    "# (TH) Deep Learning with More Sensation\n",
    "> แล้วถ้าเราอยากจะสร้าง Deep Learning program ขึ้นมาจริงๆจะต้องทำยังไงนะ\n",
    "\n",
    "- toc: true \n",
    "- badges: false\n",
    "- comments: true\n",
    "- categories: [deep learning]\n",
    "- author: Burin Sirisrimungkorn"
   ]
  },
  {
   "cell_type": "code",
   "execution_count": 22,
   "metadata": {},
   "outputs": [],
   "source": [
    "# hide\n",
    "from tensorflow.keras import datasets\n",
    "import numpy as np\n",
    "import matplotlib.pyplot as let_show\n",
    "import math\n",
    "np.random.seed(1)"
   ]
  },
  {
   "cell_type": "markdown",
   "metadata": {},
   "source": [
    "# เมื่อต้องเผชิญหน้ากับ Dataset\n",
    "เมื่อเราต้องการที่จะสร้าง neural network program สิ่งที่เราต้องมีก็คือ dataset เปรียบได้กับมันคือคลังข้อมูลที่รอให้เราได้เข้าไปเรียนรู้ พอเราจบการเรียนรู้ เราก็จะมีความสามารถในการทำหรือแก้ปัญหาสิ่งนั้นๆตามที่เราได้เรียนหรือศึกษามา \n",
    "## MNIST Dataset \n",
    "dataset อันนี้จะเป็นการรวมข้อมูลเกี่ยวกับ ตัวเลขที่ถูกเขียนด้วยลายมือมนุษย์ โดยได้มีการเก็บรวบรวมโดย National Institute of Standards and Technology และได้ถูกทำมาจัดรูปแบบและแก้ไขปรับปรุงให้เป็น dataset ที่ใช้สำหรับ machine learning โดย Yann Lecun \n",
    "MNIST ได้ถูก Yann Lecun นำไปใช้ในปี 1998 สำหรับการสร้าง neural network ซึ่ง LeNet-5 คือ program ตัวแรกที่ใช้สำหรับการจัดกลุ่มตัวเลขที่เขียนด้วยลายมือมนุษย์ นี่เป็นเหตุการณ์สำคัญอีกหน้าหนึ่งของประวัติศาสตร์ AI\n",
    "## โอเค โอเค เรามาลุยกันเลย"
   ]
  },
  {
   "cell_type": "code",
   "execution_count": 2,
   "metadata": {},
   "outputs": [
    {
     "name": "stdout",
     "output_type": "stream",
     "text": [
      "จำนวนข้อมูลใน Training set: 60000\n",
      "จำนวนข้อมูลใน Testing set: 10000\n"
     ]
    }
   ],
   "source": [
    "(x_train, y_train), (x_test, y_test) = datasets.mnist.load_data()\n",
    "\n",
    "print(f\"จำนวนข้อมูลใน Training set: {x_train.shape[0]}\")\n",
    "print(f\"จำนวนข้อมูลใน Testing set: {x_test.shape[0]}\")"
   ]
  },
  {
   "cell_type": "markdown",
   "metadata": {},
   "source": [
    "เราทำการโหลดข้อมูล MNIST จาก Keras ซึ่งเป็น framework ที่ใช้สำหรับสร้าง neural network program โดย Keras จะมี datasets ที่เตรียมไว้ให้บางส่วน (MNIST ก็เป็นหนึ่งในนั้น) จะสังเกตได้ว่าข้อมูลจะถูกแบ่งแยกออกมาเป็น 2 ส่วนนั่นคือ training และ testing set ทำไมกันนะ?\n",
    "อย่างที่เรารู้ในตอนนี้คือ เราพยายามจะสร้าง prgram ด้วยข้อมูล เมื่อผลลัพธ์ทดสอบดูกับข้อมูลที่เราใช้สร้างแล้วความสามารถในการให้คำตอบเราดีเยี่ยม แต่ แต่... นี่ก็ไม่ได้การันตีว่า พอเรานำไปใช้จริงกับข้อมูลที่ไม่ได้อยู่ในกลุ่ม training จะเกิดอะไรชึ้น ดังนั้น เราเลยต้องมีข้อมูลอีกกลุ่มมาทำเพื่อทำการทดสอบว่าถ้าเป็นข้อมูลที่ไม่ได้อยู่ในกลุ่มที่ใช้เรียนรู้ ความรู้หรือ program ที่เราได้มา ยังจะสามารถแก้ไขปัญหาได้อย่างถูกต้องไหม \n",
    "> Note: แน่นอนว่า training และ testing set ข้อมูลข้างในจะต้องไม่ใช่ตัวเดียวกัน แต่คุณลักษณะของข้อมูลทั้ง 2 กลุ่มยังต้องใกล้เคียงกัน (มาจาก statistical distribution เดี่ยวกัน) เราคงไม่สามารถเอาความรู้ที่เรียนจากภาพถ่ายรูปมุมหนึ่ง ไปใช้กับปัญหาที่เป็นรูปประเภทเดียวกันแต่ถ่ายจากอีกมุมนึงที่ไม่ปรากฏในคลังข้อมูลที่ใช้เรียนรู้\n",
    "\n",
    "นอกจากที่ถ้าสังเกตเห็นมันจะมีข้อมูลอีก 2 ตัวแปรที่ขึ้นต้นด้วย \"y\" มันคืออะไรกันนะ? จริงๆแล้วมันหมายถึงตัวแปรที่เก็บ labels หรือก็คือคำตอบที่ถูกผูกติดกับตัวอย่าง โดยในแต่ละตัวอย่างก็จะถูกผูกกับ label เอ๊ะแล้วค่าในตัวอย่างมันเป็นอะไรได้บ้าง?\n",
    "เราจะประกาศว่าคำตอบของปัญหานี้เป็นอะไรได้บ้างซึ่งแต่ละคำตอบเราจะเรียกว่า class ดังนั้น MNIST ที่มีคำตอบที่เป็นไปได้คือ 0 - 9 จะมีคำตอบทั้งหมด 10 คำตอบ ถ้าเรามองเป็น predefined set of classes จะได้เป็น {0, 1, 2, 3, 4, 5, 6, 7, 8, 9}\n",
    " \n",
    "## มาลองดูตัวอย่างกัน\n",
    "เดี๋ยวเราลองมาดูตัวอย่างแรกของ training set กัน"
   ]
  },
  {
   "cell_type": "code",
   "execution_count": 3,
   "metadata": {},
   "outputs": [
    {
     "name": "stdout",
     "output_type": "stream",
     "text": [
      "มันคือเลข 5\n",
      "รูปภาพมีขนาด 28 x 28\n"
     ]
    },
    {
     "data": {
      "text/plain": [
       "<matplotlib.image.AxesImage at 0x7fa2c09497d0>"
      ]
     },
     "execution_count": 3,
     "metadata": {},
     "output_type": "execute_result"
    },
    {
     "data": {
      "image/png": "[encoded data removed]",
      "text/plain": [
       "<Figure size 432x288 with 1 Axes>"
      ]
     },
     "metadata": {
      "needs_background": "light"
     },
     "output_type": "display_data"
    }
   ],
   "source": [
    "# hide\n",
    "print(f\"มันคือเลข {y_train[0]}\")\n",
    "print(f\"รูปภาพมีขนาด {x_train.shape[1]} x {x_train.shape[2]}\")\n",
    "let_show.imshow(x_train[0])"
   ]
  },
  {
   "cell_type": "markdown",
   "metadata": {},
   "source": [
    "จากภาพและผลลัพธ์จะเห็นได้ว่าตัวอย่างอันแรกใน training set เป็นเลข 5 โดยภาพมีขนาด 28 x 28 (height x width เนื่องจาก numpy จะแสดง row ก่อนแล้วค่อย column) แต่ก่อนที่เราจะเริ่มสร้าง neural network program กัน เราต้องทำอะไรเพิ่มอีกหน่อย\n",
    "\n",
    "- ทำการ preprocess ค่าของแต่ละตัวอย่าง\n",
    "- ทำการแปลงคำตอบให้อยู่ในรูปของ vector\n",
    "\n",
    "# ทำการ Preprocess รูปภาพ\n",
    "ตอนนี้ค่าที่อธิบายถึงรูปภาพเรามีค่าเป็นยังไงนะ"
   ]
  },
  {
   "cell_type": "code",
   "execution_count": 4,
   "metadata": {},
   "outputs": [
    {
     "name": "stdout",
     "output_type": "stream",
     "text": [
      "[[  0   0   0   0   0   0   0   0   0   0   0   0   0   0]\n",
      " [  0   0   0   0   0   0   0   0   0   0   0   0   0   0]\n",
      " [  0   0   0   0   0   0   0   0   0   0   0   0   0   0]\n",
      " [  0   0   0   0   0   0   0   0   0   0   0   0   0   0]\n",
      " [  0   0   0   0   0   0   0   0   0   0   0   0   0   0]\n",
      " [  0   0   0   0   0   0   0   0   0   0   0   0   3  18]\n",
      " [  0   0   0   0   0   0   0   0  30  36  94 154 170 253]\n",
      " [  0   0   0   0   0   0   0  49 238 253 253 253 253 253]\n",
      " [  0   0   0   0   0   0   0  18 219 253 253 253 253 253]\n",
      " [  0   0   0   0   0   0   0   0  80 156 107 253 253 205]\n",
      " [  0   0   0   0   0   0   0   0   0  14   1 154 253  90]\n",
      " [  0   0   0   0   0   0   0   0   0   0   0 139 253 190]\n",
      " [  0   0   0   0   0   0   0   0   0   0   0  11 190 253]\n",
      " [  0   0   0   0   0   0   0   0   0   0   0   0  35 241]]\n"
     ]
    }
   ],
   "source": [
    "#hide\n",
    "print(x_train[0, 0:14, 0:14])"
   ]
  },
  {
   "cell_type": "markdown",
   "metadata": {},
   "source": [
    "จะเห็นว่ามีค่าตั้งแต่ 0 จนถึง 253 (จริงๆค่าที่เป็นไปได้มากสุดคือ 255 เนื่องจากข้อมูลเก็บเป็น unsign 8 bits) แล้วแบบนี้หมายความว่ายังไง เวลา program เราเรียนรู้ กลุ่มตัวแปรที่มีค่ามากจะเป็นตัวแปรที่มีอำนาจในการตัดสินให้คำตอบ ทั้งที่ตัวแปรอื่นๆที่ค่าน้อยก็มีโอกาสที่เป็นตัวแปรที่มีความสำคัญต่อการผลิตคำตอบ ซึ่งมีผลกับการเรียนรู้ ดังนั้นเราต้องนำค่าตัวแปรต่างๆที่ใช้อธิบายรูปภาพมาทำการ normalization โดยในกรณีนี้คือนำค่าทั้งหมดมาหารด้วย 255 ซึ่งการทำอย่างนี้นอกจากจะทำให้ความสำคัญของแต่ละตัวแปรมีน้ำหนักพอๆกันแล้ว ยังช่วยให้เรียนรู้ได้เร็วขึ้นด้วย (จินตนาการว่ากราฟแสดงความสัมพันธ์ระหว่าง error และ weight 2 ตัว ที่การส่ายไปส่ายมาแทนที่จะตรงไปยังจุดที่เป็นเป้าหมาย)"
   ]
  },
  {
   "cell_type": "code",
   "execution_count": 5,
   "metadata": {},
   "outputs": [
    {
     "name": "stdout",
     "output_type": "stream",
     "text": [
      "[[0.         0.         0.         0.         0.         0.\n",
      "  0.         0.         0.         0.         0.         0.\n",
      "  0.         0.        ]\n",
      " [0.         0.         0.         0.         0.         0.\n",
      "  0.         0.         0.         0.         0.         0.\n",
      "  0.         0.        ]\n",
      " [0.         0.         0.         0.         0.         0.\n",
      "  0.         0.         0.         0.         0.         0.\n",
      "  0.         0.        ]\n",
      " [0.         0.         0.         0.         0.         0.\n",
      "  0.         0.         0.         0.         0.         0.\n",
      "  0.         0.        ]\n",
      " [0.         0.         0.         0.         0.         0.\n",
      "  0.         0.         0.         0.         0.         0.\n",
      "  0.         0.        ]\n",
      " [0.         0.         0.         0.         0.         0.\n",
      "  0.         0.         0.         0.         0.         0.\n",
      "  0.01176471 0.07058824]\n",
      " [0.         0.         0.         0.         0.         0.\n",
      "  0.         0.         0.11764706 0.14117647 0.36862745 0.60392157\n",
      "  0.66666667 0.99215686]\n",
      " [0.         0.         0.         0.         0.         0.\n",
      "  0.         0.19215686 0.93333333 0.99215686 0.99215686 0.99215686\n",
      "  0.99215686 0.99215686]\n",
      " [0.         0.         0.         0.         0.         0.\n",
      "  0.         0.07058824 0.85882353 0.99215686 0.99215686 0.99215686\n",
      "  0.99215686 0.99215686]\n",
      " [0.         0.         0.         0.         0.         0.\n",
      "  0.         0.         0.31372549 0.61176471 0.41960784 0.99215686\n",
      "  0.99215686 0.80392157]\n",
      " [0.         0.         0.         0.         0.         0.\n",
      "  0.         0.         0.         0.05490196 0.00392157 0.60392157\n",
      "  0.99215686 0.35294118]\n",
      " [0.         0.         0.         0.         0.         0.\n",
      "  0.         0.         0.         0.         0.         0.54509804\n",
      "  0.99215686 0.74509804]\n",
      " [0.         0.         0.         0.         0.         0.\n",
      "  0.         0.         0.         0.         0.         0.04313725\n",
      "  0.74509804 0.99215686]\n",
      " [0.         0.         0.         0.         0.         0.\n",
      "  0.         0.         0.         0.         0.         0.\n",
      "  0.1372549  0.94509804]]\n"
     ]
    }
   ],
   "source": [
    "# hide\n",
    "print(x_train[0, 0:14, 0:14] / 255)"
   ]
  },
  {
   "cell_type": "markdown",
   "metadata": {},
   "source": [
    "เดี๋ยวเรามาทำการ normalization รูปภาพทั้งหมดกันทั้งใน training และ testing set"
   ]
  },
  {
   "cell_type": "code",
   "execution_count": 6,
   "metadata": {},
   "outputs": [
    {
     "name": "stdout",
     "output_type": "stream",
     "text": [
      "มาดูข้อมูลรูปภาพใน training set กัน :(1000, 784)\n",
      "มาดูข้อมูลรูปภาพใน testing set กัน :(10000, 784)\n"
     ]
    }
   ],
   "source": [
    "x_train = x_train / 255\n",
    "x_train = x_train.reshape((x_train.shape[0], x_train.shape[1] * x_train.shape[2]))[11000:12000]\n",
    "\n",
    "x_test = x_test / 255\n",
    "x_test = x_test.reshape((x_test.shape[0], x_test.shape[1] * x_test.shape[2]))\n",
    "\n",
    "print(f\"มาดูข้อมูลรูปภาพใน training set กัน :{x_train.shape}\")\n",
    "print(f\"มาดูข้อมูลรูปภาพใน testing set กัน :{x_test.shape}\")"
   ]
  },
  {
   "cell_type": "markdown",
   "metadata": {},
   "source": [
    "จะเห็นว่าเราทำการหารด้วย 255 เพื่อทำให้ตัวแปรต่างๆในแต่ละรูปภาพมีความสำคัญต่อคำตอบพอๆกัน นอกจากนี้ถ้าจำได้ neural netwrok program จะรับ inputs เข้ามาเป็น 1D list หรือ vector เนื่องจากรูปภาพเราถูกนำเสนอเป็น 28 x 28 เราทำการแปลงเป็น vector โดยการใช้ reshape method ซึ่งเป็นฟังก์ชันที่ใช้สำหรับปรับ representation ของ array ในกรณีนี้เราปรับจากการนำเสนอในรูปแบบ metric เป็น vector\n",
    "โดยถ้าสังเกตใน training set จาก 60,000 ตัวอย่าง ในกรณีนี้ผมหยิบมาแค่ 1,000 ตัวอย่างสำหรับใช้สร้าง neural network program (เพ่ือความเร็ว)ถ้าต้องการใช้ตัวอย่างทั้งหมดก็ทำการลบในส่วนการเลือกตัวอย่างออกไปนะครับ ส่วน testing set ยังคงจำนวนตัวอย่างไว้เท่าเดิม\n",
    "# ทำไมเราต้องทำการแปลงคำตอบให้อยู่ในรูปของ Vector ?\n",
    "สังเกตว่าถ้าปัญหาเรามีคำตอบเดียวเราจะแทนที่ด้วย output node แค่ node เดียวแต่ถ้าเรามีหลายคำตอบเราจะมี output nodes มากกว่า 1 node ทำไมเราไม่ใช้ node เดียวแล้วให้ค่าคำตอบเป็น 0 - 9 ละ?\n",
    "เนื่องจากถ้าเราทำแบบนั้น เท่ากับเราบอก program เราด้วยว่าความสัมพันธ์ระหว่างคำตอบของเราจะมี semantic relationship นั่นคือ คำตอบที่เป็นเลข 8 มีค่ามากกว่า เลข 7 ซึ่งความจริงถ้ามองในมุมตัวเลขก็ถูก และนอกจากนี้คำตอบที่เราได้ยังมีโอกาสที่จะเป็นค่าระหว่างคำตอบจริงๆที่เราต้องการ เช่นคำตอบออกมาเป็น 7.5 แต่คราวนี้ถ้ามองใบริบทที่เรากำลังทำอยู่ เราต้องการแค่อยากรู้ว่าจากรูปที่ได้มาตัว program ต้องบอกเราให้ได้ว่ามันเป็นเลขอะไรโดยไม่สนว่าเลขนั้นจะมีค่ากว่าอีกเลขไหม\n",
    "> Note: คำตอบในกรณี MNIST เป็น discrete value และไม่มีความสัมพันธ์กันระหว่าง value\n",
    "\n",
    "\n",
    "ซึ่งจะนำไปสู่เรื่องของการเลือกแสดงคำตอบของ output layer โดยถ้าคำตอบเราเป็น numeric หรือเป็น continuous value เราก็สามารถนำเสนอ output layer ได้ด้วย node เดียวให้คำตอบเป็น numeric ในช่วงคำตอบที่สนใจ เช่น [-1, 1] ใช้สามารถ tanh เป็น activation function หรือถ้าไม่มีการกำหนดขอบเขตตายตัวก็ไม่ต้องมี activation function แต่ถ้าคำตอบที่เราต้องการเป็น category หรือ predefined set of classes จะทำให้ output layer เราต้องนำเสนอด้วย nodes ที่มีจำนวนเท่ากับ classes โดยในแต่ละ node จะให้ค่าออกเป็นความน่าจะเป็นว่ามีโอกาสเป็น class นี้หรือเปล่า โดยจะเป็น unrelated probability (แต่ละ node มีความน่าจะเป็นของตัวเองไม่เกี่ยวข้องกัน เช่น sigmoid function) หรือ related probability (แต่ละ node ใน layer มีความน่าจะเป็นที่เกี่ยวข้องกัน เช่น การใช้  softmax function)\n",
    "\n",
    "สรุปคือคำตอบของปัญหา MNIST เป็นแบบ discrete value และ order ไม่สำคัญเนื่องจากไม่มีความสัมพันธ์ระหว่าง class ดังนั้นเราจะทำการแปลงจากข้อมูลปัจจุบันที่แสดงคำตอบเป็นค่าๆเดียว {0, 1, 2, 3, 4, 5, 6, 7, 8, 9} ให้เป็น vector ที่แต่ละ node คือตัวแทนว่าเป็น node ที่บ่งบอกถึงเลขอะไร เช่น node ที่ 0 เป็นตัวแทนของเลข 0 ส่วน node ที่ 8 เป็นตัวแทนของเลข 8 โดยค่าในแต่ละ node บ่งบอกถึงความน่าจะเป็นที่จะเป็นเลขนั้น \n",
    "ขอยกตัวอย่างเช่นเลข 8 เมื่อเราทำการแปลงเป็น vector จะได้เป็น [0, 0, 0, 0, 0, 0, 0, 0, 1, 0] จะเห็นได้ว่า node ที่ไม่ได้เป็นคำตอบจะถูกแทนที่ค่าด้วย 0 ส่วน node ที่เป็นคำตอบจะถูกแทนที่ค่าด้วย 1 ถ้าลองแปลงตัวเลขอื่นๆด้วยจะทำให้เราเห็นรูปแบบบางอย่างนั่นคือตัวเลขที่ไม่ใช่คำตอบจะเป็น 0 ทั้งหมด และตัวเลขที่เป็นคำตอบจะเป็น 1 และ! เนื่องจากคำตอบเรามีแค่คำตอบเดียว node ที่เป็น 1 เลยมีแค่ node เดียวที่เหลือเป็น 0 เราเลยเรียกการแปลงข้อมูลจาก numeric เป็น vector ว่าการทำ one hot encoder แน่นอว่าเรานำเสนอข้อมูลอบบนี้ในกรณีที่ปัญหาเราเป็นแบบ multiclass problem นั่นคือมีแค่คำตอบเดียวที่ถูกต้องจากทั้งหมด แต่... ถ้าปัญหาเราเป็น multilabel multiclass หรือจากคำตอบทั้งหมดสามารถตอบได้มากกว่า 1 คำตอบ node ที่เป็น 1 ก็จะมีมากกว่า 1 node\n",
    "\n",
    "โอเค เรามาลองทำการ one hot encoder กันดีกว่า"
   ]
  },
  {
   "cell_type": "code",
   "execution_count": 7,
   "metadata": {},
   "outputs": [
    {
     "name": "stdout",
     "output_type": "stream",
     "text": [
      "มาดูข้อมูลคำตอบใน training set กัน :(1000, 10)\n",
      "คำตอบของตัวอย่างแรกคือ [0. 0. 0. 0. 0. 0. 1. 0. 0. 0.] นั่นคือเลข 5 นั่นเอง\n"
     ]
    }
   ],
   "source": [
    "y_train_one_hot = np.zeros(shape=(y_train.shape[0], 10))\n",
    "\n",
    "for i in range(y_train_one_hot.shape[0]):\n",
    "    y_train_one_hot[i][y_train[i]] = 1\n",
    "\n",
    "y_train = y_train_one_hot[11000:12000]\n",
    "print(f\"มาดูข้อมูลคำตอบใน training set กัน :{y_train.shape}\")\n",
    "print(f\"คำตอบของตัวอย่างแรกคือ {y_train[0]} นั่นคือเลข 5 นั่นเอง\")"
   ]
  },
  {
   "cell_type": "markdown",
   "metadata": {},
   "source": [
    "แรกเริ่มเราทำการสร้างโครงสร้างของ vectors ราออกมาก่อน(metric เมื่อนำเอา vectors ทั้งหมดมารวมกันเป็นคลังข้อมูลเกี่ยวกับคำตอบ)นั้นคือกำหนดให้แต่ละ vector ที่เป็นตัวแทนของคำตอบในแต่ละตัวอย่างให้ทุก nodes เป็น 0 หมด หลังจากนั้นเราจะไล่แทนค่า 1 คำไปยัง node ที่เป็นตัวแทนคำจอบของแต่ละตัวอย่าง (ในกรณีนี้ vector นึงจะมี node เดียวที่เป็น 0 เนื่องจากคำตอบที่ถูกต้องมีเพียงคำตอบเดียว)\n",
    "เรามาทำแบบเดียวกันกับคำตอบ testing set กันดูบ้าง"
   ]
  },
  {
   "cell_type": "code",
   "execution_count": 8,
   "metadata": {},
   "outputs": [
    {
     "name": "stdout",
     "output_type": "stream",
     "text": [
      "มาดูข้อมูลคำตอบใน testing set กัน :(10000, 10)\n",
      "คำตอบของตัวอย่างแรกคือ [0. 0. 0. 0. 0. 0. 0. 1. 0. 0.]\n"
     ]
    }
   ],
   "source": [
    "y_test_one_hot = np.zeros(shape=(y_test.shape[0], 10))\n",
    "\n",
    "for i in range(y_test_one_hot.shape[0]):\n",
    "    y_test_one_hot[i][y_test[i]] = 1\n",
    "\n",
    "y_test = y_test_one_hot\n",
    "print(f\"มาดูข้อมูลคำตอบใน testing set กัน :{y_test.shape}\")\n",
    "print(f\"คำตอบของตัวอย่างแรกคือ {y_test[0]}\")"
   ]
  },
  {
   "cell_type": "markdown",
   "metadata": {},
   "source": [
    "จะเห็นได้ว่าเราเปลี่ยนคำตอบที่แสดงในรูปแบบ numeric ให้กลายเป็น one hot vector ได้สำเร็จ\n",
    "## ก่อนมาเริ่มทำการสร้าง Neural Network program มารู้จัก Activation function กันก่อน\n",
    "ก่อนอื่นในแต่ละ layer (ที่ไม่ใช่ output layer) เรายังไม่มีการใช้ activation function ในรอบนี้เราจะมาใช้กัน โดย function ที่เราจะใช้ก็คือ relu นั่นเอง ฟังก์ชันมีความง่ายมากนั่นคือ ถ้าค่ามากกว่า 0 ให้ทำการคงคำตอบค่าเดิมเอาไว้ แต่ถ้าค่าน้อยกว่าหรือเท่ากับ 0 ให้ทำการแปลงคำตอบให้กลายเป็น 0 \n",
    "> Warning: ทำไมต้อง activation function หรือให้เฉพาะเจาะจงทำไมต้อง non linear activation function เนื่องจากถ้าเราไม่มี function นี้ ตัวโปรแกรมเราถึงแม้จะเป็น neural network ที่มี 10 layers ก็ไม่ช่วยอะไรเนื่องจาก neural network แค่ 2 layers ก็สามารถให้คำตอบเดียวกับ neural network ที่มี 10 layers ลองคิดในแง่ของ correlation ว่าถ้า weights คือ correlation ระหว่าง layers โดยจุดประสงค์หลักของ program ในการเรียนรู้คือการหา correlation ระหว่าง inputs และ outputs ถ้าเราไม่มี non linear activation function จะทำให้ correlation ในแต่ละช่วงของตัวโปรแกรม (ในกรณีนี้เรามี hidden layer) สุดท้ายก็ขึ้นอยู่กับ  correlation ที่มีกับ inputs layer (นี่แหละ! ที่ทำให้ถึงแม้เรามี layer เยอะแค่ไหนก็ตาม คำตอบสุดท้ายก็สามารถผลิตได้ด้วย program ที่มีแค่ input และ output layer) แต่ถ้าเรามีการใช้ activation function นั้นเท่ากับว่าในแต่ละ layer มีสิทธิ์ที่จะสร้าง correlation ของตัวเองขึ้นมา โดยไม่ได้ขึ้นอยู่กับแค่ฝั่งของ input layer ทำให้เราสามารถสร้าง correlation ที่ซับซ้อน และสุดท้ายก็สร้าง indirect correlation ได้ โดย correlation จาก input layer เป็นแค่ส่วนหนึ่งของ correlation ทั้งหมด ที่ตัวโปรแกรมพยายามสร้างขึ้นมา (ไม่เหมือนกับการใช้ correlation โดยตรงระหว่าง input layer และ output layer) \n",
    "\n",
    "\n",
    "เหตุผลว่าทำไมต้อง activation function ผมขอลองใช้การเปรียบเทียบดูนะครับ จินตนาการดูครับว่า เรามีสร้อยคออันนึงเล็กๆแต่อยากกจะเซอไพส์แฟน แต่ในตอนนี้มีแค่กระดาษ A4 จำนวนนึง (หากล้องของขวัญไม่ทันแล้ว) เราก็เลยคิดว่างั้นเอาเลยละกัน เราเอา A4 ห่อสร้อยเอาไว้หลายๆชั้นและมีการขยัมให้เป็นก้อนกลมๆ พอเราส่งให้แฟน แฟนก็ตอบว่า \"มันคืออะไรเนี่ย\" แฟนมี 2 ตัวเลือกคือ \n",
    "\n",
    "- คลี่\n",
    "- ดีด\n",
    "\n",
    "โดยการคลี่หนึ่ง ครั้งเรามองเป็น 1 step และการดีดหนึ่งครั้งก็มองเป็น 1 step ดุแล้วปัญหานี้ก็เป็นปัญหาที่ซับซ้อนพอควรเพราะเราต้องคลี่ด้วยมุม, แรงและทิศทางที่ไม่มีกำหดตายตัวจนกระทั้งเจอสสร้อย ทุกครั้งที่เราคลี่เราเปลี่ยนแปลง representation ทุกครั้ง เราคลี่ไปเรื่อยๆ แล้วหยุดคิดแปปนึงว่าจาก representation ปัจจุบันของก้อนกระดาษที่ห่อสร้อยกับก้อนกระดาษที่ผ่านการคลี่แค่ครั้งเดียวก่อนหน้านี้ จะเห็นว่าเรามาไกลแค่ไหนและการคลี่ของเราเมื่อมองมันเป็น list ของ actions มีความซับซ้อนเมื่อเทียบกับตอนเราพึ่งจะคลี่ไปรอบเดียว แต่เราไม่รู้สึกถึงความซับซ้อนเพราะแต่ละ step เราทำแค่ขั้นตอนง่ายๆคือการคลี่ แต่ถ้าเรายังไม่เริ่มคลี่แล้วต้องการทำการคลี่ทีเดียวเพื่อให้ได้ผลลัพธ์เหมือนกับที่เราคลี่ไปแล้ว 25 ครั้ง มันจะเป็นคู่มือขั้นตอนที่ซับซ้อนมากในการทำทีเดียว จะเห็นว่าแต่ละ step ก็เหมือนแต่ละ layer ของ neural network program และการคลี่ก็คือ non linear actibation function ซึ่ง function นี้ผลลัพธ์คือการสะสมความซับซ้อนขึ้นทีละนิด\n",
    "\n",
    "แต่ถ้าเราใช้ linear activation function หรือไม่ใช้เลยละ มันก็จะเปรียบได้กับการดีดก้อนกระดาษที่ห่อสร้อย representation เราเปลี่ยนนั่นคือก้อนมีการขยับและหยุดโดยทำมุมต่างจากตอนแรก แต่การดีด 25 ครั้งก็ไม่ทำให้เราใกล้กับคำตอบรวมถึง ผลลัพธ์จากการดีด 25 ครั้ง บางทีเราอาจจะสามารถทำได้ด้วยการดีดเพียงครั้งเดียว และที่โชคร้ายคือการดีดไม่ซับซ้อนพอที่จะพาเราไปสู่คำตอบได้ เปรียบได้กับ neural network ที่มีหลาย layer ก็จริงแต่สุดท้ายผลผลิตก็สามารถถูกผลิตได้ด้วย program ที่มี layer เดียว นอกจากนี้ยังไม่มีความซับซ้อนพอที่จะผลิตคำตอบที่เหมาะสมอีกด้วย\n",
    "\n",
    "## คุณสมบัติของ Activation function\n",
    "ผมขอแบ่งคุณสมบัติที่ควรมีของ activation function ออกมาเป็น 4 คุณสมบัติ\n",
    "### 1. Activation functions ต้องเป็น Continuous function\n",
    "นั่นคือทุก input (infinite domain) ของเราที่ใส่เข้าไปใน function จะต้องมีคำตอบออกมาทั้งหมด เราไม่ควรที่จะใส่ input เข้าไปแล้วไม่มี output ออกมา\n",
    "### 2. Activation functions ที่ดี จะต้องไม่เปลี่ยนแปลงทิศทาง\n",
    "มันหมายความว่ายังไงกันนะ ลองคิดถึงพวกกราฟยกกำลัง เช่น ยกกำลัง 2 "
   ]
  },
  {
   "cell_type": "code",
   "execution_count": 9,
   "metadata": {},
   "outputs": [
    {
     "data": {
      "text/plain": [
       "[<matplotlib.lines.Line2D at 0x7fa2c0a016d0>]"
      ]
     },
     "execution_count": 9,
     "metadata": {},
     "output_type": "execute_result"
    },
    {
     "data": {
      "image/png": "[encoded data removed]",
      "text/plain": [
       "<Figure size 432x288 with 1 Axes>"
      ]
     },
     "metadata": {
      "needs_background": "light"
     },
     "output_type": "display_data"
    }
   ],
   "source": [
    "# hide\n",
    "x = np.arange(-5,5,0.1)\n",
    "y = x ** 2\n",
    "let_show.plot(x, y)"
   ]
  },
  {
   "cell_type": "markdown",
   "metadata": {},
   "source": [
    "จะเห็นว่าคำตอบที่ได้มีการเปลี่ยนทิศทางจากลบเป็นบวก ถ้าเราเพิ่มค่าแนวแกน x เพิ่มขึ้นเรื่อยๆ แบบนี้แสดงว่าถ้า x เราคือ weight และ y คือคำตอบ คำตอบที่ถูกต้องสามารถหาได้จากการปรับ x ไปด้านซ้ายหรือขวา ตอนนี้แหละเราจะเกิด 2 มุมมอง\n",
    "\n",
    "- มุมมองแรก เอ้ยมันดีนะเรามีโอกาสที่จะหาคำตอบที่ถูกต้องเจอมากขึ้น เจ๋งเลย\n",
    "- มุมมองที่สอง แย่แล้วคำตอบที่ถูกต้องสามารถหาได้จากการเลื่อน x ไปทางซ้ายหรือ ขวา แล้วเราควรจะเลื่อนไปด้านไหนดี?\n",
    "\n",
    "ซึ่งพอมามองในมุมมองของ neural network program แล้วหรือเฉพาะเจาจง optmization alogorithm มุมมองที่สองมีความสำคัญและส่งผลต่อการเรียนรู้มากกว่า ดังนั้นเราควรจะเลือก functions ที่ไม่เปลี่ยนทิศทาง\n",
    "### 3. Activation functions เป็น Non Linear functions\n",
    "ตามเหตุผลที่อธิบายไปก่อนหน้าที่ถ้าเป็น non linear functions ยิ่ง steps ในโปรแกรมเยอะก็หมายถึง program มีความซับซ้อนมากขึ้น และสามารถแก้ไขปัญหาที่ซับซ้อนได้ ถ้ามองในมุม correlation คือ hidden layer สามารถสร้างปรากฏการณ์ selective correlation ได้ ส่งผลให้แต่ละ layer สร้าง correlation ของตัวเองได้ (ทำให้แต่ละ layer เปรียบเสมือน representation ใหม่ของข้อมูลของเรา) และสุดท้ายส่งผลให้ output layer ไม่ได้ขึ้นอยู่กับแค่ correlation จาก input layer เพียงอย่างเดียว แต่เป็น correlation โดยรวมจาก layers ก่อนหน้าทั้งหมด ซึ่งมีความซับซ้อน\n",
    "### 4. Activation functions ต้องสามารถคำนวณได้ในเชิงใช้งานจริง รวมถึง derivative ของตัว function เองด้วย\n",
    "ง่ายๆก็คือสามารถคำนวณได้ และต้องเร็ว เนื่องจาก activation functions จะต้องถูกเรียกบ่อยมากๆ\n",
    "## เรามาดู Activation functions ที่ถูกใช้ใน Hidden layer กันดีกว่า\n",
    "functions ที่ใช้กันผมจะขอยกตัวอย่างมา 3 functions\n",
    "### 1. Sigmoid function\n",
    "จะทำการให้คำตอบระหว่าง [0, 1] ซึ่งเหมาะมากในการใช้อธิบายความน่าจะเป็นของ node โดย 1 ก็คือมีโอกาส 100% นั่นทำให้ functions นี้ถูกนำไปใช้ทั้งใน hidden และ output layer"
   ]
  },
  {
   "cell_type": "code",
   "execution_count": 10,
   "metadata": {},
   "outputs": [],
   "source": [
    "def sigmoid(x):\n",
    "    output = 1 / (1 + np.exp(-x))\n",
    "    return output\n",
    "\n",
    "def derivative_of_sigmoid(output):\n",
    "    derivative_output = output * (1 - output)\n",
    "    return derivative_output"
   ]
  },
  {
   "cell_type": "markdown",
   "metadata": {},
   "source": [
    "### 2. tanh function\n",
    "ในส่วนของ tanh จะให้คำตอบระหว่าง [-1, 1] เนื่องจากมีโอกาสให้คำตอบเป็นจำนวนติดลบด้วย ทำให้ในหลายปัญหามีประโยชน์กว่า sigmoid การทำ weight sum คือการดูว่า inputs ของเราเป็นไปในทิศทางเดียวกับ correlation ที่มีสำหรับ node ที่สนใจไหม (การทำ weight sum มองเป็นการหา similarity หรือแนวโน้มที่ไปทางเดียวกันกับความสัมพันธ์) ถ้าคำตอบเป็นลบแสดงว่ายังมีความสัมพันธ์กันอยู่ระหว่าง input กับ output node แต่เป็นความสัมพันธ์ที่ input มีความตรงกันข้ามกับ output ซึ่ง tanh สามารถอธิบายตรงนี้ได้ แต่ sigmoid จะบอกคำตอบว่าเป็น 0 ซึ่งบอกว่าค่า input ที่เข้ามาปัจจุบันไม่มีความสัมพันธ์กับ output เพราะ sigmoid function ทำให้ node บอกได้แค่ว่ามีความสัมพันธ์ไหม หรือไม่มี"
   ]
  },
  {
   "cell_type": "code",
   "execution_count": 11,
   "metadata": {},
   "outputs": [],
   "source": [
    "def tanh(x):\n",
    "    output = np.tanh(x)\n",
    "    return output\n",
    "\n",
    "def derivative_of_tanh(output):\n",
    "    derivative_output = 1 - (output ** 2)\n",
    "    return derivative_output"
   ]
  },
  {
   "cell_type": "markdown",
   "metadata": {},
   "source": [
    "### 3.relu function\n",
    "จะให้ผลลัพธ์เป็นค่าเดิมเมื่อค่ามากกว่า 0 แต่ถ้าค่าน้อยกว่าหรือเท่ากับ 0 จะให้ค่าคำตอบที่เป็น 0 เท่านั้น ผลกระทบจะเหมือน sigmoid เลยนั่นคือจะบอกได้แค่จาก input ที่ได้มามีความสัมพันธ์ไหม หรือไม่มี แต่ที่ต่างคือตัวสมการ sigmoid จะให้ค่า derivative ที่สูงเมื่อ input เข้าใกล้ 0 แต่เมื่อคำตอบที่ได้จาก sigmoid เข้าใกล้ 1 หรือ 0 จะทำให้ค่า derivative เข้าใกล้ 0 ซึ่งส่งผลให้เกิดความ Stickness ซึ่งส่งผลดีในกรณีที่มีมี noise เข้ามาในช่วงที่ weights เราจุดที่มีความมั่นใจในการสร้างคำตอบแล้ว เช่น คำตอบเข้าใกล้ 0 หรือ 1 การที่มี noise ทำให้เกิด error ก็จะไม่รบกวนคำตอบที่ program สร้างขึ้นมา แต่ แต่... ก็มีผลเสียเหมือนกันคือเมื่อ program เรียนรู้แล้วยังไม่เข้าสู่จุดที่เข้าใจบทเรียน แต่ node ของเราบาง node ไปถึงจุด stickness เรียบร้อยแล้ว (ทั้งที่จริงยังต้องปรับขึ้นหรือลงอีก) ส่งผลทำให้เกิดความยากในการเรียนรู้ อาจถึงขั้นต้อง reset เพื่อเรียนรู้ใหม่ \n",
    "ดังนั้น relu จะไม่มีในเรื่องของ stickness เนื่องจากเมื่อค่ามากกว่า 0 ค่า derivative จะมีค่าเป็น 1 และเมื่อน้อยกว่า 0 ค่า derivative จะมีค่าเป็น 0 "
   ]
  },
  {
   "cell_type": "code",
   "execution_count": 12,
   "metadata": {},
   "outputs": [],
   "source": [
    "def relu(x):\n",
    "    output = (x > 0) * x\n",
    "    return output\n",
    "\n",
    "def derivative_of_relu(output):\n",
    "    derivative_output = output > 0\n",
    "    return derivative_output"
   ]
  },
  {
   "cell_type": "markdown",
   "metadata": {},
   "source": [
    "ความจริงในส่วนของ derivative function ค่า input จะต้องเป็น x ไมา่ใช่ output แต่เพื่อความง่ายในการคำนวณเมื่อสร้าง neural network program เราจะใช้แบบนี้ในการคำนวณ (ไม่ส่งผลต่อคำตอบ เพราะจำนวนติดลบก็ถูกแปลงเป็น 0 และ ค่า 0 ใส่คำไปใน derivative function ของ relu ก็ให้คำตอบเป็น 0 อยู่ดี)"
   ]
  },
  {
   "cell_type": "markdown",
   "metadata": {},
   "source": [
    "## เรามาดู Activation functions ที่ถูกใช้ใน Hidden layer กันดีกว่า\n",
    "จะขอแบ่งการใช้ activation จากปัญหาออกเป็น 3 รูปแบบนะครับ\n",
    "### 1. ต้องการคำตอบที่เป็น Numeric\n",
    "ในที่นี้เราสามารถปล่อยให้ node ไม่ต้องมี activation functions ได้เลย หรือถ้าเราต้องการจำกัดขอบเขตของคำตอบก็ทำการใช้ sigmoid หรือ tanh \n",
    "ได้\n",
    "### 2. มีคำตอบหลายคำตอบและมีคำตอบที่ถูกต้องมากกว่า 1 คำตอบ\n",
    "ในกรณีนี้ที่มีหลายคำตอบแสดงว่าเราแทนที่คำตอบด้วย vector โดยแต่ละ element ใน vector จะเป็นตัวแทนของคำตอบนั้น และเนื่องจากมีคำตอบที่ถูกต้องมากกว่า 1 คำตอบ เราเลยให้แต่ละ node มีความน่าจะเป็นของตัวเอง ถ้า node ไหนมีความน่าจะเป็นมากกว่า threshold ที่กำหนดก็จะเลือก node นั้นเป็นคำตอบ หมายความว่าแต่ละ node เราจะใช้ sigmoid เป็น activation functionถ้า\n",
    "### 3. มีคำตอบหลายคำตอบและมีคำตอบที่ถูกต้องเพียงคำตอบเดียว\n",
    "ถ้าเราใช้ sigmoid แล้วทำการสร้าง neural network program ให้เกิดการเรียนรู้ จะเหมือนเป็นการบอก program ว่า \"นี่ๆเจ้า program ใน out layer แต่ละ node ช่วยทำให้ค่าอื่นๆที่ไม่ใช่คำตอบที่ถูกต้องเป็น 0 และให้ node ที่เป็นคำตอบี่ถูกต้องเป็น 1\" สมมุติเรามี 3 คำตอบ ได้แก่ [0.2, 0.3, 1]  และคำตอบที่ถูกต้องคือคำตอบที่สาม จะเห็นได้ว่า program เราตอบถุกและมั่นใจมากๆ แต่การเรียนรู้ยังไม่หยุดเนื่องจาก node ที่เหลือยังไม่เป็น 0 ใช่แล้วเป้าหมายของ sigmoid ไม่ใช่แค่ขอคำจอบที่ถูกต้องเป็น 1 แต่คำตอบที่ผิดต้องเป็น 0 ด้วย!\n",
    "\n",
    "ดังนั้นจากตรงนี้เราเลยต้องมีการปรับปรุงให้มีประสิทธิภาพมากขึ้นนั่นคือเราโฟกัสไปแค่ node ที่เป็นคำตอบที่ถูกแล้วพยายามปรับความน่าจะเป็นให้มากขึ้นเรื่อยๆ ส่วน nodes ที่เหลือจะมีการลดลงของความน่าจะเป็นแบบอัตโนมัติ เอ๊ะทำไมกันนะ? เพราะว่าทุก nodes ใน output vector ทำการแชร์ความน่าจะเป็นกัน (หรือมีความน่าจะเป็นแค่อันเดียว ต่างจาก sigmoid ที่ความน่าจะเป็นจะแยกไปเป็นของแต่ละ node) ทำให้การใช้ sigmoid เป็นการบอกว่า \"เฮ้ คำตอบไหนเป็นคำตอบที่ถูกต้องที่สุด ก้ปรับให้คำตอบนั้นค่าความน่าจะเป็นออกมามากที่สุด node อื่นที่ไม่ใช่คำตอบก็จะมีความน่าจะเป็นที่น้อยลงเองอัตโนมัติ\"\n",
    "\n",
    "แล้วคำนวณยังไงนะ sigmoid ให้มองเป็น 3 ขั้นตอนง่าย\n",
    "1. ทำการ weight sum ระหว่าง input vector และ weight vector (ปกติที่เราทำกันมา)\n",
    "2. ทำการ คำนวณ exponential function โดยที่เลขฐานเป็น e\n",
    "3. นำค่าแต่ละ node มาตั้งและหารด้วย ค่าของ node ทั้งหมดรวมกัน (หาความน่าจะเป็นของแต่ละ node)"
   ]
  },
  {
   "cell_type": "code",
   "execution_count": 13,
   "metadata": {},
   "outputs": [],
   "source": [
    "def softmax(x):\n",
    "    expoential_output = np.exp(x)\n",
    "    output = expoential_output / np.sum(expoential_output)"
   ]
  },
  {
   "cell_type": "markdown",
   "metadata": {},
   "source": [
    "## มาเริ่มสร้าง Neural Network program สำหรับ Dataset กันดีกว่า"
   ]
  },
  {
   "cell_type": "code",
   "execution_count": 14,
   "metadata": {},
   "outputs": [],
   "source": [
    "alpha, iterations, hidden_layer1 = 0.01, 500, 32"
   ]
  },
  {
   "cell_type": "markdown",
   "metadata": {},
   "source": [
    "เริ่มแรกมากำหนด learning rate กันก่อนให้เท่ากับ 0.003 (ค่ามากน้อยขึ้นอยู่กับข้อมูลและโครงสร้าง program เรายิ่งค่ามากยิ่งมีการปับ weight มากในครั้งเดียว และยิ่งค่าน้อยก็ยิ่งปรับ weight น้อย มีผลกับเวลาในการเรียนรู้) ต่อมาคือ iteration (epochs) ใช้บอกว่าเราจะให้โปรแกรมเห็น dataset ทุกตัวอย่างทั้งหมดกี่ครั้ง และสุดท้ายจำนวน node ใน hidden layer"
   ]
  },
  {
   "cell_type": "code",
   "execution_count": 15,
   "metadata": {},
   "outputs": [],
   "source": [
    "weight_0_1 = 0.2 * np.random.random(size=(x_train.shape[1], hidden_layer1)) - 0.1\n",
    "weight_1_2 = 0.2 * np.random.random(size=(hidden_layer1, 10)) - 0.1"
   ]
  },
  {
   "cell_type": "markdown",
   "metadata": {},
   "source": [
    "- weight_0_1 คือ weight ระหว่าง layer 0 (input layer) กับ  layer 1 (hidden layer 1)\n",
    "- weight_1_2 คือ weight ระหว่าง layer 1 (hidden layer 1) กับ  layer 2 (output layer)\n",
    "\n",
    "โดยเราทำการเลื่อนค่าให้มีค่า mean อยู่ที่ - 0.1 และ มีการกะจายของข้อมูลเป็น 0.2 (scale)"
   ]
  },
  {
   "cell_type": "code",
   "execution_count": 16,
   "metadata": {},
   "outputs": [
    {
     "name": "stdout",
     "output_type": "stream",
     "text": [
      "Error: 0.002805354217390215\n",
      "Accuracy: 0.998\n"
     ]
    }
   ],
   "source": [
    "for j in range(iterations):\n",
    "    error, correct_count = 0, 0\n",
    "    \n",
    "    for i in range(x_train.shape[0]):\n",
    "        layer_0 = x_train[i:i+1]\n",
    "        layer_1 = relu(layer_0.dot(weight_0_1))\n",
    "        layer_2 = layer_1.dot(weight_1_2)\n",
    "        \n",
    "        error += np.sum((layer_2 - y_train[i:i+1]) ** 2)\n",
    "        correct_count += int(np.argmax(layer_2) == np.argmax(y_train[i:i+1]))\n",
    "        \n",
    "        layer_2_delta = layer_2 - y_train[i:i+1]\n",
    "        layer_1_delta = derivative_of_relu(layer_1) * (layer_2_delta.dot(weight_1_2.T))\n",
    "        \n",
    "        weight_0_1 -= alpha * layer_0.T.dot(layer_1_delta)\n",
    "        weight_1_2 -= alpha * layer_1.T.dot(layer_2_delta)\n",
    "    \n",
    "print(f'Error: {error / x_train.shape[0]}')\n",
    "print(f'Accuracy: {correct_count / x_train.shape[0]}')"
   ]
  },
  {
   "cell_type": "markdown",
   "metadata": {},
   "source": [
    "สังเกตว่าเรามีการปรับ weights ในทุกๆตัวอย่างของ training set (1,000 ตัวอย่าง) ดังนั้นเราจะมีการปรับ weights ทั้งหมด 1,000 x 350 (iteration)  เป็น 350,000 ครั้ง! แต่ว่าการทำแบบนี้การปรับ weights แต่ละครั้งด้วยตัวอย่างเดียวอาจทำให้บางครั้งของการปรับ weights เกิด noise ได้ทำให้ weights เดินผิดเพี้ยนไป แต่โดยรวม weights แต่ละค่าก็พยายามมุ่งเข้าหาค่าของ weights ที่ควรจะเป็นถ้าเราลองวาดเป็นกราฟการเดินทางก็จะมี noise เกิดขึ้นบ้างแต่ trend โดยรวมก็ยังเหมือนเดิม จริงๆการปรับ weights สามารถทำได้ 3 แบบ\n",
    "1. stochastic gradient descent \n",
    "2. full gradient descent \n",
    "3. batch gradient descent \n",
    "\n",
    "โดยเกิดจากว่าแรกเริ่มใช้ full gradient descent แต่เมื่อคลังข้อมูลเรามีขนาดใหญ่มากขึ้นเราไม่สามารถใส่ข้อมูลทั้งหมดใน memory รวมถึงการอัพเดท weights ครั้งหนึ่งใช้เวลานานมาก เช่นเมื่อต้องสร้าง program จาก ImageNet dataset ซึ่งมีภาพหลักล้านรูป ถ้าเรารอให้ครบทั้ง dataset แบะอัพเดททีหนึ่งเราจะใช้เวลาในการ training นานมากๆ ดังนั้นจึงเกิดแนวคิดว่าแล้วทำไมเราไม่ใส่ตัวอย่างหนึ่งและปรับ weights หนึ่งที ซึ่งจะทำให้เรามีการปรับ weights ได้หลายครั้งมากต่อการใช้ dataset ทั้งหมด 1 รอบ แต่อย่างที่บอกคือ เราอัพเดทได้เร็วก็จริงแต่การอัพเดทแต่ละครั้งมีโอกาสเป็น noise ดังนั้นเราเลยอยู่กึ่งกลางละกันโดยการใช้ batch gradient descent นั่นคือเรามีโอกาสอัพเดทมากกว่าการใช้ full gradient descent  และการอัพเดทแต่ละครั้งก็มีโอกาสเกิด noise น้อยกว่าและมีโอกาสมุ่งเข้าสู่ค่า weights ที่เป็นคำตอบมากกว่า เนื่องจากมีการเฉลี่ยกันของหลายๆตัวอย่างถึงแม้จะไม่ได้แนวโน้มการอัพเดทที่ดีเท่า full dataset แต่ก็เป็นแนวโน้มการอัพเดทที่ดีกว่าการอัพเดทจากทีละหนึ่งตัวอย่าง (หมายความว่าอาศัยจำนวนการอัพเดทน้อยกว่าแบบ stochastic gradient descent อีกด้วย) ยิ่งไปกว่านั้นการทำแบบ batch ยังเป็นการใช้ optimization library สำหรับ linear algebra อย่างคุ้มค่าเมื่อเราทำการอัพเดท weights ทั้งหมด 10 iterations แบบ batch จะมีความเร็วกว่าแบบ stochastic gradient descent อีกด้วย\n",
    "\n",
    "จะเห็นว่าผลลัพธ์ออกมาเป็น accuracy 99.9% Wow! แต่ แต่... อย่าลืมว่าอันนี้เราทพสอบกับคลังข้อมูลที่ program เราเรียนรู้โดยตรง เดี๋ยวเราลองมาทดสอบกับคลังข้อมูลที่ program ยังไม่เคยเห็นมาก่อน"
   ]
  },
  {
   "cell_type": "code",
   "execution_count": 17,
   "metadata": {},
   "outputs": [
    {
     "name": "stdout",
     "output_type": "stream",
     "text": [
      "Error: 0.40306746534485255\n",
      "Accuracy: 0.8093\n"
     ]
    }
   ],
   "source": [
    "error, correct_count = 0.0, 0\n",
    "\n",
    "for i in range(x_test.shape[0]):\n",
    "    \n",
    "    layer_0 = x_test[i:i+1]\n",
    "    layer_1 = relu(layer_0.dot(weight_0_1))\n",
    "    layer_2 = layer_1.dot(weight_1_2)\n",
    "\n",
    "    error += np.sum((layer_2 - y_test[i:i+1]) ** 2)\n",
    "    correct_count += int(np.argmax(layer_2) == np.argmax(y_test[i:i+1]))\n",
    "    \n",
    "print(f'Error: {error / float(x_test.shape[0])}')\n",
    "print(f'Accuracy: {correct_count / x_test.shape[0]}')"
   ]
  },
  {
   "cell_type": "markdown",
   "metadata": {},
   "source": [
    "จะเห็นว่าเมื่อเราทดสอบกับ training set เราได้ 99.9% แต่พอมาทดสอบกับ testing set กับได้ 82.71% ซึ่งต่างกันพอสมควร งั้นแปลว่า program เรายังเอามาใช้กับข้อมูลที่ไม่เคยเห็นได้ดีพอทำไมกันนะ?\n",
    "\n",
    "มีหลากหลาย weights configuration ที่ทำให้ค่า error ต่ำและ program ออกมาดีเมื่อทดสอบกับ training set แต่เป้าหมายเราคือการหา weights ที่สามารถทำให้ทดสอบกับข้อมูลที่ไม่เคยเห็นและได้คำตอบที่ถุกต้องนั่นคือเมื่อทดสอบกับ testing set จะต้องได้ผลััพธืออกมาดี (Generalization) weights ที่เฉพาะเจาะจงกับ training set (ทำให้ค่าที่ทดสอบออกมาดี) เราเรียกว่า overfitting (ทำการจำข้อมูลในคลังข้อมูลแล้วมาตอบคำถามเวลาสอบ) ดังนั้นเราต้องทำยังไงที่จะทำให้เราหา weights ที่ generalization (สร้างองค์ความรู้ออกมาเพื่อใช้ผลิตคำตอบ ต่างจากการจำ) ได้กับข้อมูลที่ไม่ได้อยู่ใน training set ซึ่งบ่อยครั้งที่เมื่อเราลด generalization error จะมีราคาที่ต้องแรกคือ training error จะเพิ่มขึ้น แต่ก็เป็นสิ่งที่รับได้เพราะสุดท้าย training error ที่น้อยมากๆ ก็ไม่สามารถนำไปใช้ประโยชน์จริงได้ แต่กลับ generalization error ที่น้อยเราสามารถนำมันไปใช้ประโยชน์ได้และมั่นใจได้ว่า program เราจะสามารถทำงานกับข้อมูลที่มันไม่เคยเห็นได้ แล้วเราจทำยังไงดี\n",
    " # ถึงเวลาการทำ regularization\n",
    " การทำ regularization มีหลายแบบตั้งแต่การปรับสมการคำนวณค่า error หรือการเปลี่ยนแปลงโครงสร้างของตัว program (ตัวแปร interact กันยังไง) ขอยกตัวอย่างคร่าวๆโดยการปรับปรุง error โดยเป็นการควบคุม capacity ของ program ในการเรียนรู้ ถ้า capacity สูงเกินไปและปัยหาไม่ซับซ้อนตัว program ก็จะเลือกทางเลือกที่ง่ายที่สุดนั่นคือการจดจำตำตอบ ดังนั้นเราจึงต้องจำกัด capacity ให้เหมาะสมที่จะส่งเสริมให้ program เกิดการเรียนรู้และสร้างองค์ความรู้ขึ้นมาจริงๆ"
   ]
  },
  {
   "cell_type": "markdown",
   "metadata": {},
   "source": [
    "error = (output - true_output) ** 2\n",
    "\n",
    "เราทำการเพิ่มไปอีกสมการหนึ่ง\n",
    "\n",
    "error = (output - true_output) ** 2 + sum(weight ** 2)\n",
    "\n",
    "จะเห็นว่าเป็นการเอา weights มารวมใน error ด้วย เพื่อเป็นการบอกว่าถ้า weights ไหนไม่ได้มีผลกลับคำตอบจริงๆให้ค่ามุ่งหน้าเข้าสู่ 0 รวมถึง weights ที่มีผลคล้ายๆกันกับคำตอบให้ทำการแชร์ค่ากัน เช่น weight_1 แทนที่จะเป็น 1 ก็ให้เหลือ weight_1 กับ weight_2 เป็น 0.5 แทน การทำแบบนี้ weight แต่ละตัวแปรจะไม่สามารถมีค่าที่มากเกินไปได้ weights แต่ละอันต้องมีการแชร์ และ weights ที่เป็น noise ก็จะต้องถูกปิด (ค่าเข้าใกล้ 0)\n",
    "\n",
    "แต่สำหรับครั้งนี้ผมจะมาเน้นที่การทำ regularization โดยการปรับตัว program (architecture) โดยการใช้สิ่งที่เรียกว่า dropout\n",
    "# ยินดีต้อนรับ Dropout\n",
    "การใช้ dropout คือการ random เพื่อทำการ shut down node ที่เลือกลงไป (แทนค่าเป็น 0) ทำไมถึงใช้งานได้ละ?\n",
    "##  การสร้าง neural network program มาเยอะๆหลาย program แล้วทำการเฉลี่ยคำตอบ (Ensembling)\n",
    "เมื่อเราทำการสร้างมาหลายๆ program แน่นอนว่าแต่ละ program ก็จะมีการเรียกรู้ที่ต่างกัน และผิดพลาดต่างกัน เรา overfitting ก็มีการ overfitting ที่ต่างกัน เมื่อ program เรียนรู้จะเรียนรู้สิ่งที่เป็น concept หลักก่อน จากนั้นถ้ายังเหลือ capacity ก็จะเริ่มเรียนรู้รายละเอียดของตัวอย่างนั้นๆ (fine grained detail)เมื่อเรานำทั้งหมดมาเฉลี่ยกันก็จะมีการ cancel ความผิดพลาด ออกไปเหลือแค่ concept หลักที่มีการเรียนรู้ร่วมกัน\n",
    "\n",
    "แต่การสร้างหลายๆ programs และให้มันเรียนรู้ มันใช้เวลายเอะมากเลยนะ ดังนั้น dropout จึงเข้ามานั่นคือเราสร้าง program แค่อันเดียวแล้วทุกครั้งที่มีการใส่ inputs เข้าไปในโปรแกรมเราจะทำการสุ่มปิด nodes ใน program เท่ากับว่าเรามีการสร้าง sub program (sub neural network) ขึ้นมาและที่สำคัญคือ sub program มีจำนวน weights น้อยลงทำให้ลดการเกิด overfitting และถ้าเรามองการทำ dropout คือการสร้าง sub program แสดงว่า sub program หนึ่ง เรียนรู้ batch ของ training set และอีก sub program หนึ่งเรียนรู้อีก batch ของ training set เปรียบเสมือน เราสร้าง 2 program ที่เรียนรู้ข้อมูลคนละส่วน เราเรียกว่า การทำ begging\n",
    "\n",
    "แต่ dropout ให้เรามากว่านั้นเนื่องจาก sub program ถูกสร้างออกมาจาก program ใหญ่แสดงว่า weights ต้องมีการแชร์กันระหว่าง sub program จำได้ไหม การทำ regularization โดยการปรับสมการ error คือการจำกัดทำให้ค่า weights มุ่งหน้าเข้าสู่ 0 แต่! การทำให้ sub program มีการแชร์ weights กันทำให้ค่า weights ถูกจำกัดและปรับมุ่งหน้าเข้าสู่ค่าที่มันควรจะเป็น (ไม่ใช่ 0)จาก sub program อื่นๆ นี่ยิ่งทำให้ dropout ทรงพลังขึ้นไปอีก \n",
    "แล้วสุดท้ายเราจะมาเฉลี่ยกันยังไง? ถ้า program มี hidden layer แค่ 1 layer การสุ่มเอา sub program มา (จำนวนมากหรือทั้งหมดถ้า node มีไม่มาก) แล้วทำการเฉลี่ยคำตอบก่อนเข้า activation function ใน output nodes จะมีค่าเท่ากับการปิดการทำงานของ dropout หรือการใช้ full program ในการผลิตคำตอบ แล้วนำคำตอบที่ได้มาหารด้วย ratio ของ nodes ที่ปิดไปใน hidden layer\n",
    "\n",
    "แต่ถ้าเรามี hidden layer มากกว่า 2 การทำแบบเดิมจะไม่ให้ค่าที่ทำกันแล้วแต่ก็ยังสามารถเป็นค่าประมาณที่ใช้จริงได้อยู่\n",
    "# พอแล้ว Theory มาลงมือจริงกันเลยดีกว่า"
   ]
  },
  {
   "cell_type": "code",
   "execution_count": 18,
   "metadata": {},
   "outputs": [],
   "source": [
    "alpha, iterations, hidden_layer1 = 0.01, 500, 32\n",
    "weight_0_1 = 0.2 * np.random.random(size=(x_train.shape[1], hidden_layer1)) - 0.1\n",
    "weight_1_2 = 0.2 * np.random.random(size=(hidden_layer1, 10)) - 0.1"
   ]
  },
  {
   "cell_type": "markdown",
   "metadata": {},
   "source": [
    "เหมือนเดิม เริ่มแรกมากำหนด learning rate กันก่อนให้เท่ากับ 0.003 (ค่ามากน้อยขึ้นอยู่กับข้อมูลและโครงสร้าง program เรายิ่งค่ามากยิ่งมีการปับ weight มากในครั้งเดียว และยิ่งค่าน้อยก็ยิ่งปรับ weight น้อย มีผลกับเวลาในการเรียนรู้) ต่อมาคือ iteration (epochs) ใช้บอกว่าเราจะให้โปรแกรมเห็น dataset ทุกตัวอย่างทั้งหมดกี่ครั้ง และสุดท้ายจำนวน node ใน hidden layer \n",
    "\n",
    "- weight_0_1 คือ weight ระหว่าง layer 0 (input layer) กับ  layer 1 (hidden layer 1)\n",
    "- weight_1_2 คือ weight ระหว่าง layer 1 (hidden layer 1) กับ  layer 2 (output layer)\n",
    "\n",
    "โดยเราทำการเลื่อนค่าให้มีค่า mean อยู่ที่ - 0.1 และ มีการกะจายของข้อมูลเป็น 0.2 (scale)"
   ]
  },
  {
   "cell_type": "code",
   "execution_count": 19,
   "metadata": {},
   "outputs": [
    {
     "name": "stdout",
     "output_type": "stream",
     "text": [
      "Error: 0.2771398481038192\n",
      "Accuracy: 0.869\n",
      "Test Error: 0.3636057630375286\n",
      "Test Accuracy: 0.8138\n"
     ]
    }
   ],
   "source": [
    "for j in range(iterations):\n",
    "    error, correct_count = 0, 0\n",
    "    \n",
    "    for i in range(x_train.shape[0]):\n",
    "        layer_0 = x_train[i:i+1]\n",
    "        layer_1 = relu(layer_0.dot(weight_0_1))\n",
    "        dropout_mask = np.random.randint(2, size=layer_1.shape)\n",
    "        layer_1 *= dropout_mask * (1/0.5)\n",
    "        layer_2 = layer_1.dot(weight_1_2)\n",
    "        \n",
    "        error += np.sum((layer_2 - y_train[i:i+1]) ** 2)\n",
    "        correct_count += int(np.argmax(layer_2) == np.argmax(y_train[i:i+1]))\n",
    "        \n",
    "        layer_2_delta = layer_2 - y_train[i:i+1]\n",
    "        layer_1_delta = derivative_of_relu(layer_1) * (layer_2_delta.dot(weight_1_2.T))\n",
    "        layer_1_delta = layer_1_delta * dropout_mask\n",
    "        \n",
    "        weight_0_1 -= alpha * layer_0.T.dot(layer_1_delta)\n",
    "        weight_1_2 -= alpha * layer_1.T.dot(layer_2_delta)\n",
    "    \n",
    "test_error, test_correct_count = 0.0, 0\n",
    "\n",
    "for i in range(x_test.shape[0]):\n",
    "\n",
    "    layer_0 = x_test[i:i+1]\n",
    "    layer_1 = relu(layer_0.dot(weight_0_1))\n",
    "    layer_2 = layer_1.dot(weight_1_2)\n",
    "\n",
    "    test_error += np.sum((layer_2 - y_test[i:i+1]) ** 2)\n",
    "    test_correct_count += int(np.argmax(layer_2) == np.argmax(y_test[i:i+1]))\n",
    "\n",
    "\n",
    "print(f'Error: {error / x_train.shape[0]}')\n",
    "print(f'Accuracy: {correct_count / x_train.shape[0]}')\n",
    "print(f'Test Error: {test_error / float(x_test.shape[0])}')\n",
    "print(f'Test Accuracy: {test_correct_count / x_test.shape[0]}')"
   ]
  },
  {
   "cell_type": "markdown",
   "metadata": {},
   "source": [
    "จะเห็นได้ว่า dropout ทำให้ผลการทดสอบกับ testing set ดีขึ้น หมายความว่าทำให้การ generalization ดีขึ้น ส่วนมากการทำให้ program มีการ generalization ดีขึ้นจะต้องมีการแลกเปลี่ยนกับผลลัพธ์ metric ของ training set ในกรณีนี้ยังเราสามารถลองเพิ่มจำนวน iterations ได้เพื่อดูว่าเรายังสามารถปรับปรุง program ให้ดีขึ้นไปได้อีกไหม โดยต้องอย่าลืมตรวจสอบ generalization gap (ความต่างของ error ระหว่าง training และ testing set) มีความกว้างมากไหม ถ้ากว้างมากอาจหมายความว่าเรา overfitting เรียบร้อยแล้ว\n",
    "> Note: ตอนนี้เรากำลังใช้ testing set ในการปรับตัวแปรที่จำเป็นในการสร้าง program เช่นจำนวน iterations หรือ learning rate การทำแบบนี้เป็นการพยายาม overfitting ทางอ้อมกับ testing set ดังนั้นเพื่อป้องกันสถานการณ์นี้เราจะมี validation set มาขั้นกลาง โดยเราใช้ validation set นี้ในการปรับ hyperparameters (parameters ที่ program ไม่ได้ปรับตรงๆในช่วงเรียนรู้ แต่เป็นตัวแปรสำคัญและมีผลต่อการเรียนรู้)\n",
    "\n",
    "# สุดท้ายแล้ว ถ้าเราอยากทำ Batch Gradient Descent ละจะทำยังไง\n",
    "เราทำการนำตัวแปร gradients ของทุก nodes ใน output layer จากแต่ละ example มาหารด้วยจำนวนสมาชิกใน batch เพราะการปรับ weights ของเราจะขึ้นอยู่กับตัวอย่างทั้งหมดใน batch นั้นเราเลยต้องทำการเฉลี่ยออกมา\n",
    "> Important: ความจริงเรื่องการหารมันเป็นผลเนื่องมาจากสุดท้ายเราคำนวนหา error ของแต่ละตัวอย่างและนำค่า error ทั้งหมดของแต่ละตัวอย่างมารวมกัน ตรงจุดนี้เราทำการหารด้วยตัวอย่างทั้งหมด นั่นทำให้พอเราหา gradients ของแต่ละ nodes จากแต่ละตัวอย่าง จะต้องหารด้วยจำนวนสมาชิกใน batch แต่ถ้าสมการ error เราไม่มีการหารด้วยตัวอย่างทั้งหมด ตอนเราหา gradients ก็ไม่ต้องหารจำนวนสมาชิกทั้งหมดใน batch"
   ]
  },
  {
   "cell_type": "code",
   "execution_count": 27,
   "metadata": {},
   "outputs": [
    {
     "name": "stdout",
     "output_type": "stream",
     "text": [
      "Error: 3.449173614715377\n",
      "Accuracy: 0.835\n",
      "Test Error: 0.3309046876836692\n",
      "Test Accuracy: 0.8426\n"
     ]
    }
   ],
   "source": [
    "batch_size = 100\n",
    "alpha, iterations, hidden_layer1 = 0.01, 3000, 32\n",
    "weight_0_1 = 0.2 * np.random.random(size=(x_train.shape[1], hidden_layer1)) - 0.1\n",
    "weight_1_2 = 0.2 * np.random.random(size=(hidden_layer1, 10)) - 0.1\n",
    " \n",
    "for j in range(iterations):\n",
    "    error, correct_count = 0, 0\n",
    "    \n",
    "    for i in range(int(x_train.shape[0] / batch_size)):\n",
    "        batch_start, batch_end = (i * batch_size,(i+1) * batch_size)\n",
    "        layer_0 = x_train[batch_start:batch_end]\n",
    "        layer_1 = relu(layer_0.dot(weight_0_1))\n",
    "        dropout_mask = np.random.randint(2, size=layer_1.shape)\n",
    "        layer_1 *= dropout_mask * (1/0.5)\n",
    "        layer_2 = layer_1.dot(weight_1_2)\n",
    "        \n",
    "        error += np.sum((layer_2 - y_train[batch_start:batch_end]) ** 2)\n",
    "        for k in range(batch_size):\n",
    "            correct_count += int(np.argmax(layer_2[k:k+1]) == np.argmax(y_train[batch_start + k:batch_start + k + 1]))\n",
    "        \n",
    "        layer_2_delta = (layer_2 - y_train[batch_start:batch_end]) * 1 / batch_size\n",
    "        layer_1_delta = derivative_of_relu(layer_1) * (layer_2_delta.dot(weight_1_2.T))\n",
    "        layer_1_delta = layer_1_delta * dropout_mask\n",
    "        \n",
    "        weight_0_1 -= alpha * layer_0.T.dot(layer_1_delta)\n",
    "        weight_1_2 -= alpha * layer_1.T.dot(layer_2_delta)\n",
    "    \n",
    "test_error, test_correct_count = 0.0, 0\n",
    "\n",
    "for i in range(x_test.shape[0]):\n",
    "\n",
    "    layer_0 = x_test[i:i+1]\n",
    "    layer_1 = relu(layer_0.dot(weight_0_1))\n",
    "    layer_2 = layer_1.dot(weight_1_2)\n",
    "\n",
    "    test_error += np.sum((layer_2 - y_test[i:i+1]) ** 2)\n",
    "    test_correct_count += int(np.argmax(layer_2) == np.argmax(y_test[i:i+1]))\n",
    "\n",
    "\n",
    "print(f'Error: {error / batch_size}')\n",
    "print(f'Accuracy: {correct_count / x_train.shape[0]}')\n",
    "print(f'Test Error: {test_error / float(x_test.shape[0])}')\n",
    "print(f'Test Accuracy: {test_correct_count / x_test.shape[0]}')"
   ]
  },
  {
   "cell_type": "markdown",
   "metadata": {},
   "source": [
    "สังเกตว่าการใช้ batch gradient descent จะเป็นการใช้ประโยชน์จากการ optimization ของ linear algebra ทำให้การอัพเดท weights 1 ครั้งเป็นการใช้ตัวอย่างเป็นกลุ่ม ส่งผลให้การประมวลผล training set ใน 1 iteration มีความเร็วมากขึ้น ส่งผลให้เราสามารถเพิ่มจำนวน iterations ได้มากขึ้น นอกจากนี้ถ้ามีการดู error ในทุกๆ iterations ตัว error จะมีแนวโน้มที่มีความเรียบเนียน (smooth) กว่าการอัพเดท weights ที่ละตัวอย่าง\n",
    "\n",
    "ก่อนจากกัน ทุกคนสามารถลองเล่นโดยการปรับ การ random weights ให้เหมาะสมยิ่งขึ้น (ป้องกัน vanishing gradient), หรือการทำ gradient clip (เพื่อป้องกัน exploding gradient) และ activation functions ดูได้ เพื่อดุประสิทธิภาพของตัว program เมื่อมีการปรับเปลี่ยน activation functions เนื่องจากตัวอย่างที่ได้ทำมาทั้งหมดจะเป็นการใช้ relu ส่วน output nodes ไม่ได้ใช้ activation functions ซึ่งจากโจทย์ข้อนี้ควรจะใช้ softmax หรือ sigmoid ใน output layers เพื่อให้คำตอบอยู่ในช่วง [0, 1] \n",
    "> Note: ถ้าใช้ sigmoid หรือ tanh เป็น hidden layer activation function อย่าลืม random weights ให้เข้าใกล้ 0 เพื่อที่ค่า derivatives จะได้ไม่เข้าใกล้ 0 เกินไปจน program ยากที่จะเรียนรู้หรือปรับปรุง weights\n",
    "\n",
    "หวังว่าทุกคนที่เข้ามาอ่านจะสนุกและได้ความรู้กันนะครับ\n",
    "\n",
    "\"If you cannot sleep in the night, you need more time to understand it\"\n",
    "\n",
    "Burin Sirisrimungkorn"
   ]
  },
  {
   "cell_type": "code",
   "execution_count": null,
   "metadata": {},
   "outputs": [],
   "source": []
  }
 ],
 "metadata": {
  "kernelspec": {
   "display_name": "Python 3",
   "language": "python",
   "name": "python3"
  },
  "language_info": {
   "codemirror_mode": {
    "name": "ipython",
    "version": 3
   },
   "file_extension": ".py",
   "mimetype": "text/x-python",
   "name": "python",
   "nbconvert_exporter": "python",
   "pygments_lexer": "ipython3",
   "version": "3.7.4"
  }
 },
 "nbformat": 4,
 "nbformat_minor": 2
}
