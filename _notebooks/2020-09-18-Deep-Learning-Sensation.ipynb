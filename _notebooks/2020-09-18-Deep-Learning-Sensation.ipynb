{
 "cells": [
  {
   "cell_type": "markdown",
   "metadata": {},
   "source": [
    "# (TH) Deep Learning Sensation\n",
    "> Deep Learning มันเป็นยังไงกันนะ\n",
    "\n",
    "- toc: true \n",
    "- badges: false\n",
    "- comments: true\n",
    "- categories: [deep learning]\n",
    "- author: Burin Sirisrimungkorn"
   ]
  },
  {
   "cell_type": "markdown",
   "metadata": {},
   "source": [
    "# Neural Network ทำอะไรกันแน่?\n",
    "neural network ถ้าเราทำการรื้อดูส่วนประกอบข้างในหน่วยย่อยที่สุดก็คือ ตัวแปรต่างๆ เช่นตัวแปรที่เป็น inputs และตัวแปรที่เป็น weights โดย operation ขั้นพื้นฐานสุดของ neural network ก็คือการคูณ ดังนั้นเราอาจมองได้ว่ามันคือ Power of multiplication"
   ]
  },
  {
   "cell_type": "code",
   "execution_count": 1,
   "metadata": {},
   "outputs": [
    {
     "data": {
      "text/plain": [
       "6"
      ]
     },
     "execution_count": 1,
     "metadata": {},
     "output_type": "execute_result"
    }
   ],
   "source": [
    "x_input = 2\n",
    "weight = 3\n",
    "x_input * weight"
   ]
  },
  {
   "cell_type": "markdown",
   "metadata": {},
   "source": [
    "## มาดูกันเถอะว่า neural network ใช้การคูณกันทำการสร้างคำตอบได้ยังไง\n",
    "จินตนาการว่าเราต้องการรู้ว่าทีมฟุตบอลเราจะชนะไหมในแต่ละการแข่งขัน โดยข้อมูลที่เราใช้จะเป็นค่าเฉลี่ยนิ้วเท้าของสมาชิกในทีมฟุตบอล (ทำการนับนิ้วเท้าทั้งหมดของสมาชิกในทีมแล้วหาค่าเฉลี่ย) มาดูกันว่าเราจะหาคำตอบออกมาได้ยังไงโดยใช้ neuralnetwork"
   ]
  },
  {
   "cell_type": "code",
   "execution_count": 2,
   "metadata": {},
   "outputs": [],
   "source": [
    "weight = 0.1"
   ]
  },
  {
   "cell_type": "markdown",
   "metadata": {},
   "source": [
    "เริ่มจากการกำหนดค่า weight ก่อน โดยเราให้ weight มีค่าเป็น 0.1"
   ]
  },
  {
   "cell_type": "code",
   "execution_count": 3,
   "metadata": {},
   "outputs": [],
   "source": [
    "number_of_toes = [8.5, 9.5, 10, 9]"
   ]
  },
  {
   "cell_type": "markdown",
   "metadata": {},
   "source": [
    "นี่คือค่าเฉลี่ยนิ้วเท้าของนักฟุตบอลในแต่ละทีม เช่นทีมที่ 1 มีค่าเฉลี่ย 8.5 นิ้ว ส่วนทีมที่ มีค่เฉลี่ย 9.5 นิ้ว"
   ]
  },
  {
   "cell_type": "code",
   "execution_count": 4,
   "metadata": {},
   "outputs": [],
   "source": [
    "def neural_network(x_input, weight):\n",
    "    prediction = x_input * weight\n",
    "    return prediction"
   ]
  },
  {
   "cell_type": "markdown",
   "metadata": {},
   "source": [
    "เราทำการสร้าง neural network ขึ้นมา สังเกตว่ามันก็คือการคูณกันระหว่างตัวแปรที่เป็น input ซึ่งก็คือค่าเฉลี่ยนิ้วเท้าของนักฟุตบอลในทีมของเรา กับ ตัวแปรที่เป็น weight ซึ่งเรากำหนดค่าไว้คือ 0.1"
   ]
  },
  {
   "cell_type": "code",
   "execution_count": 5,
   "metadata": {},
   "outputs": [
    {
     "data": {
      "text/plain": [
       "0.8500000000000001"
      ]
     },
     "execution_count": 5,
     "metadata": {},
     "output_type": "execute_result"
    }
   ],
   "source": [
    "x_input = number_of_toes[0]\n",
    "pred = neural_network(x_input, weight)\n",
    "pred"
   ]
  },
  {
   "cell_type": "markdown",
   "metadata": {},
   "source": [
    "เราทำการเอาค่าจากการทีมแรกมาเป็น input เพราะต้องการรู้ว่าทีมแรกจะชนะไหม สุดท้ายเมื่อเราเอามาใส่เข้าไปใน neural network ของเรา ผลลัพธ์คำตอบที่ได้ไม่ได้บอกว่า ชนะหรือไม่ชนะ (1 หรือ 0) แต่บอกเป็นความน่าจะเป็นที่จะชนะ ในกรณีนี้คือมีโอกาสชนะ 85% ว้าว นี่เราสามารถสร้าง neural network ที่สามารถทำการทำนายได้ว่าทีมที่เราสนใจมีโอกาสชนะไหมจากการใช้ข้อมูลค่าเฉลี่ยของนิ้วเท้านักฟุตบอลในทีม!"
   ]
  },
  {
   "cell_type": "markdown",
   "metadata": {},
   "source": [
    "## การแข่งขันครั้งหนึ่งของทีมหนึ่งมีข้อมูลหลายแง่มุมกว่าแค่นิ้วเท้า\n",
    "แต่ความจริงแค่ค่าเฉลี่ยนิ้วเท้าอาจจะยังไม่สามารถการันตีได้ว่าผลลัพธ์ที่ได้ถูกต้องจริงหรือเปล่า ดังนั้นจะต้องมีการเพิ่มมุมมองของข้อมูลเข้าไปเพื่อให้ neural network มีการตัดสินใจในคำตอบที่ดีขึ้น โดยคราวนี้เราไม่ได้ใส่แค่ input ตัวเดียว (ค่าเฉลี่ยนิ้วเท้า) แต่มี inputs อีกหลายตัว เข้ามาพิจารณาร่วมด้วย เรานำ inputs ทั้งหมดมาจัดกลุ่มรวมกันและมองทั้งหมดเป็น representation ของข้อมูลที่เราสนใจ ในกรณีนี้คือข้อมูลของแต่ละทีม ซึ่งต่อไปจะขอเรียกข้อมูลย่อยๆ (input แต่ละอัน) ที่ประกอบกันเป็น representation ว่า features "
   ]
  },
  {
   "cell_type": "code",
   "execution_count": 6,
   "metadata": {},
   "outputs": [],
   "source": [
    "# hide\n",
    "import numpy as np"
   ]
  },
  {
   "cell_type": "code",
   "execution_count": 7,
   "metadata": {},
   "outputs": [],
   "source": [
    "weights = np.array([0.1, 0.2, 0])"
   ]
  },
  {
   "cell_type": "markdown",
   "metadata": {},
   "source": [
    "คราวนี้จะมีตัวแปร weight ทั้งหมด 3 ตัวแปรเนื่องจากข้อมูลเรามี 3 inputs (feature)  "
   ]
  },
  {
   "cell_type": "code",
   "execution_count": 8,
   "metadata": {},
   "outputs": [],
   "source": [
    "def neural_network(x_input, weights):\n",
    "    pred = x_input.dot(weights)\n",
    "    return pred"
   ]
  },
  {
   "cell_type": "markdown",
   "metadata": {},
   "source": [
    "neural network เราเหมือนเดิมเลยคือการนำ input มาคูณกับ weight เพือ่สร้างคำตอบ แต่ แต่... คราวนี้เรามี 3 inputs และ 3 weights ดังนั้นเราก็ทำการคูณกันเป็นคู่ๆ input ไหนคู่กับ weight ไหน ก็นำมาคูณกันสุดท้ายเราจะได้ list ที่มีจำนวนสมาชิกเท่ากับ 3 เพราะเกิดจากการคูณกันของแต่ละคู่ แต่ประเด็นคือเราต้องให้คำตอบออกมาเป็นค่าเดียวนั่นคือความนน่าจะเป็นที่ทีมฟุตบอลของเราจะชนะ แล้วเราจะทำยังไงดี ง่ายมากเราก็แค่เอาผลลัพธ์ที่ได้จากการคูณกันของแต่ละคู่มาบวกรวมกันเป็นค่าเดียว นี่คือคำตอบของเรา!\n",
    "\n",
    "> Note: การคูณกันตามตำแหน่งที่ตรงกันและนำผลลัพธ์จากการคูณกันของแต่ละตำแหน่งมารวมกันเราเรียกว่า weight sum หรือมองเป็นการนำ 2 vectors มาทำ dot product กันนั่นเอง"
   ]
  },
  {
   "cell_type": "code",
   "execution_count": 10,
   "metadata": {},
   "outputs": [],
   "source": [
    "toes = np.array([8.5, 9.5, 9.9, 9.0])\n",
    "win_loss = np.array([0.65, 0.8, 0.8, 0.9])\n",
    "nfans = np.array([1.2, 1.3, 0.5, 1.0])"
   ]
  },
  {
   "cell_type": "markdown",
   "metadata": {},
   "source": [
    "เรามีทั้งหมด 3 inputs ได้แก่ ค่าเฉลี่ยนิ้วเท้าของนักฟุตบอลของแต่ละทีม (toes), อัตราการชนพและแพ้ของแต่ละทีม (win_loss) และจำนวนแฟนคลับของแต่ละทีม (nfans)"
   ]
  },
  {
   "cell_type": "code",
   "execution_count": 11,
   "metadata": {},
   "outputs": [
    {
     "name": "stdout",
     "output_type": "stream",
     "text": [
      "0.9800000000000001\n"
     ]
    }
   ],
   "source": [
    "x_input = np.array([toes[0], wlrec[0], nfans[0]])\n",
    "pred = neural_network(x_input, weights)\n",
    "print(pred)"
   ]
  },
  {
   "cell_type": "markdown",
   "metadata": {},
   "source": [
    "เราทำการดึงข้อมูลของทีมแรกมา (เราเรียกข้อมูลแต่ละ row ว่า example) ซึ่งประกอบด้วยข้อมูลย่อย 3 ส่วน (ข้อมูลแต่ละ column คือ feature) เรานำ input ทั้ง 3 ตัวนี้ไปใส่ใน neural network program ของเรา สุดท้ายเราก็จะได้คำตอบออกมาซึ่งบอกว่าทีมแรกของเรามีโอกาสชนะ 98% Wow!"
   ]
  },
  {
   "cell_type": "markdown",
   "metadata": {},
   "source": [
    "## แล้วถ้าเราอยากได้คำตอบหลายๆคำตอบละทำยังไง\n",
    "ตอนนี้ neural network สามารถให้คำตอบกับเราได้ว่าทีมเราจะชนะหรือแพ้ แล้วถ้าเราบอกว่าเราอยากรู้ด้วยว่าทีมนี้เมื่อแข่งเสร็จมีโอกาสจะเกิดการบาดเจ็บไหม ยิ่งกว่านั้นอยากรู้ด้วยว่าหลังแข่งเสร็จทีมนีจะอารมณ์เป็นยังไง\n",
    "\n",
    "> Note: output เราจะมีทั้งหมด 3 ตัวแปร ได้แก่ 1.บาดเจ็บ (1) หรือ ไม่บาดเจ็บ (0) 2. ชนะ (1) หรือ แพ้ (0) 3. ดีใจ (1) หรือ เสียใจ (0) โดยทั้งหมดค่าจะบ่งบอกถึงความน่าจะเป็น "
   ]
  },
  {
   "cell_type": "code",
   "execution_count": 14,
   "metadata": {},
   "outputs": [],
   "source": [
    "weight_0_1 = np.array([[0.1, 0.2, -0.1], \n",
    "                   [-0.1, 0.1, 0.9], \n",
    "                   [0.1, 0.4, 0.1]]).T\n",
    "\n",
    "weight_1_2 = np.array([[0.3, 1.1, -0.3], \n",
    "                   [0.1, 0.2, 0.0], \n",
    "                   [0.0, 1.3, 0.1]]).T\n",
    "\n",
    "weights = [weight_0_1, weight_1_2]"
   ]
  },
  {
   "cell_type": "markdown",
   "metadata": {},
   "source": [
    "จาก weight_0_1 ถ้าเราโฟกัสไปที่ column แรก แถวทั้งหมดคือ weights ที่ผูกกับ inputs ซึ่งสุดท้ายก็จะได้ค่าออกมาหนึ่งค่าสำหรับ node ที่เราสนใจ (หรือก็คือ column ที่ 1) ผ่านการทำ weight sum สังเกตว่าเรามีอยู่ 3 columns ดังนั้นเราต้องทำการ weight sum ทั้งหมด 3 ครั้ง แปลว่าเราจะได้ 3 nodes ใหม่ ซึ่งขอให้มองว่ามันคือ 3 inputs ใหม่ของเราที่ผ่าน step ครั้งแรกมาทำให้เราได้ representation ใหม่ที่ดีกว่าและเหมาะสมมากขึ้น จากนั้นเราก็นำเอา 3 inputs ใหม่นี้ทำการคำนวณร่วมกับ weight_1_2 สุดท้าย จะได้ 3 nodes ใหม่ออกมาซึ่งในกรณีนี้ก็คือ output ของเรา ที่ให้คำตอบออกมาทั้งหมด 3 คำตอบตามที่เราต้องการ"
   ]
  },
  {
   "cell_type": "code",
   "execution_count": 16,
   "metadata": {
    "scrolled": true
   },
   "outputs": [
    {
     "data": {
      "text/plain": [
       "array([0.2135, 0.145 , 0.5065])"
      ]
     },
     "execution_count": 16,
     "metadata": {},
     "output_type": "execute_result"
    }
   ],
   "source": [
    "def neural_network(input, weights):\n",
    "    hid = input.dot(weights[0])\n",
    "    pred = hid.dot(weights[1])\n",
    "    return pred\n",
    "\n",
    "toes = np.array([8.5, 9.5, 9.9, 9.0])\n",
    "wlrec = np.array([0.65, 0.8, 0.8, 0.9])\n",
    "nfans = np.array([1.2, 1.3, 0.5, 1.0])\n",
    "\n",
    "input = np.array([toes[0], wlrec[0], nfans[0]])\n",
    "pred = neural_network(input, weights)\n",
    "pred"
   ]
  },
  {
   "cell_type": "markdown",
   "metadata": {},
   "source": [
    "เมื่อเรานำทีมแรกใส่เข้าไปใน neural network program จะได้คำตอบออกมาเป็น โอกาสในการบาดเจ็บ 21.35%, โอกาสในการชนะ 14.5% และโอกาสที่จะดีใจ 50.65% สังเกตว่าตอนนี้ program เราสามารถรับ inputs ได้หลายตัวแปร และให้คำตอบได้หลายคำตอบ โดยการปรับตัวสมการเพิ่มเติมเล็กน้อย "
   ]
  },
  {
   "cell_type": "markdown",
   "metadata": {},
   "source": [
    "# แล้วคราวนี้ Neural Network จะเรียนรู้ยังไง\n",
    "ที่ผ่านมาเราสร้าง neural network program และทำการผลิตคำตอบออกมาได้ แต่ทำไมมันดูเหมือนโปรแกรมปกติเลยละ เรากำหนดทุกอย่างขึ้นมาเองโดยแค่เปลี่ยนจากการสร้าง rule ด้วย logic ปกติมาเป็นการสร้างสมการคณิตศาสตร์ ดูแล้วไม่เห็นมีการเรียนรู้ของตัวโปรแกรมเลย ถุกแล้วครับ สิ่งที่เราทำไปถ้าสังเกตดีๆเรามีการกำหนดค่า weight เรียบร้อยแล้วเป็นค่าที่ทำให้คำตอบออกมาถูกต้องด้วย! แต่จริงๆค่านี้มันคือเป้าหมายของเราและเป็นสิ่งที่กำหนดว่า program เกิดการรียนรู้หรือเปล่า หลายๆคนคงเริ่มนึกออกแล้วว่าการเรียนรู้ของโปรแกรมก็คือ การปรับค่าตัวแปร weights นั่นเอง! \n",
    "> Warning:เราจะปรับค่า weights ทำไมและเพื่ออะไรละ?\n",
    "\n",
    "\n",
    "ลองคิดดูว่าเราใส่ข้อมูลให้ neural network program แล้วได้คำตอบออกมา เราจะรู้ได้ไงว่าคำตอบที่ได้ถูกต้อง? คำตอบคือเอาไปเทียบกับคำตอบจริงๆ (เรียกว่า label ที่ติดอยู่กับ example) สุดท้ายเราจะได้ค่า error ออกมา นี่แหละ! เราปรับค่า weights ต่างๆเพื่อทำให้ error เหลือน้อยที่สุด นั่นแปลว่าคำตอบที่ program เราผลิตออกมาก็จะมีความถูกต้อง"
   ]
  },
  {
   "cell_type": "code",
   "execution_count": 3,
   "metadata": {},
   "outputs": [
    {
     "data": {
      "text/plain": [
       "0.25"
      ]
     },
     "execution_count": 3,
     "metadata": {},
     "output_type": "execute_result"
    }
   ],
   "source": [
    "weight = 0.5\n",
    "x_input = 0.5\n",
    "goal_pred = 0.8\n",
    "pred = x_input * weight\n",
    "pred"
   ]
  },
  {
   "cell_type": "markdown",
   "metadata": {},
   "source": [
    "กำหนดให้ weight เริ่มต้นมีค่าเท่ากับ 0.5 และให้ input มีค่า 0.5 ส่วนคำตอบที่ควรจะเป็นมีค่า 0.8 สุดท้าย เราทำการใส่ input เข้าไปใน program เพื่อทำการคำนวณหาคำตอบและได้คพตอบออกมาเป็น 0.25"
   ]
  },
  {
   "cell_type": "code",
   "execution_count": 4,
   "metadata": {
    "scrolled": true
   },
   "outputs": [
    {
     "data": {
      "text/plain": [
       "0.30250000000000005"
      ]
     },
     "execution_count": 4,
     "metadata": {},
     "output_type": "execute_result"
    }
   ],
   "source": [
    "error = (pred - goal_pred) ** 2\n",
    "error"
   ]
  },
  {
   "cell_type": "markdown",
   "metadata": {},
   "source": [
    "เรานำเอาคำตอบที่ได้จาก program มาเทียบกับคำตอบจริง โดยการหาผลต่างและนำผลลัพธ์มายกกำลัง 2 เพื่อให้ค่า error ที่ได้เป็นบวก \n",
    "> Important: ในกรณีที่เรามีการหาค่าเฉลี่ยของ error จากกลุ่มของ example การยกกำลังจะช่วยให้เราไม่เผลอ cancel ค่า error ของแต่ละ example กันเองจนทำให้ error ต่ำกว่าที่ควรจะเป็น เพราะเราพิจารณาว่ามันจะเป็นบวกหรือลบยังไงมันก็คือ error และการยกกำลังยังมีอีกความหมายคือสนใจความผิดพลาดที่ใหญ่ และปล่อยผ่านความผิดพลาดเล็กๆ\n",
    "\n",
    "\n",
    "สุดท้าย error ที่คำนวณออกมามีค่าเท่ากับ 0.3025 \n",
    "โอเค! เรารู้ error แล้ว ต่อไปต้องทำยังไงต่อ\n",
    "## เพิ่มหรือลด weight ดีนะ?\n",
    "เราลองมาช่วยกันคิดกันว่าวิธีที่ง่ายที่สุดในการปรับ weights ทั้งหลายคืออะไรนะ อืม....\n",
    "โอเค! ลองนี่ไหม เรามี input 1 ค่า เราทำการสร้่าง input มาอีก 2 ค่า\n",
    "1. เอา input ที่เราสนใจมาเพิ่มค่าด้วยจำนวนน้อยมากๆ\n",
    "2. เอา input ที่เราสนใจมาลดค่าด้วยจำนวนที่น้อยมากๆ\n",
    "ดังนั้น input เราจะมีร่างเงาของ input นี้อีก 2 ค่า ที่มากกว่าและน้อยกว่า input หลักเรา แล้วไงต่อ"
   ]
  },
  {
   "cell_type": "code",
   "execution_count": 8,
   "metadata": {},
   "outputs": [],
   "source": [
    "weight = 0.5\n",
    "x_input = 0.5\n",
    "goal_prediction = 0.8\n",
    "step_amount = 0.001"
   ]
  },
  {
   "cell_type": "markdown",
   "metadata": {},
   "source": [
    "มากำหนดก่อนว่าเราจะปรับ weight เป็นจำนวนทีละเท่าไร ในกรณีนี้เราจะเพิ่มหรือลดด้วยจำนวน 0.001"
   ]
  },
  {
   "cell_type": "code",
   "execution_count": 14,
   "metadata": {},
   "outputs": [
    {
     "name": "stdout",
     "output_type": "stream",
     "text": [
      "Error:1.0799505792475652e-27 Prediction:0.7999999999999672\n"
     ]
    }
   ],
   "source": [
    "for iteration in range(1000):\n",
    "    \n",
    "    prediction = x_input * weight\n",
    "    error = (prediction - goal_prediction) ** 2\n",
    "    \n",
    "    up_prediction = x_input * (weight + step_amount)\n",
    "    up_error = (up_prediction - goal_prediction) ** 2\n",
    "    \n",
    "    down_prediction = x_input * (weight - step_amount)\n",
    "    down_error = (down_prediction - goal_prediction) ** 2\n",
    "    \n",
    "    if(down_error < up_error):\n",
    "        weight = weight - step_amount\n",
    "        \n",
    "    if(down_error > up_error):\n",
    "        weight = weight + step_amount\n",
    "          \n",
    "print(\"Error:\" + str(error) + \" Prediction:\" + str(prediction))"
   ]
  },
  {
   "cell_type": "markdown",
   "metadata": {},
   "source": [
    "เราทำการใส่ input เข้าไปในโปรแกรม 2 ครั้ง\n",
    "1. ครั้งที่ 1 ใส่ input ที่เป็นร่างเงาที่มีค่ามากกว่า input ดั้งเดิม ได้คำตอบเอาไปคำนวณ error\n",
    "2. ครั้งที่ 2 ใส่ input ที่เป็นร่างเงาที่มีค่าน้อยกว่า input ดั้งเดิม ได้คำตอบเอาไปคำนวณ error\n",
    "\n",
    "สุดท้ายดูว่า input เงาตัวไหนให้ค่า error ที่ต่ำกว่า ก็เลือกการอัพเดท weight ตามนั้น\n",
    "ปัญหาคือถ้าเรามี neural network program ที่ใหญ่มาก และมีจำนวนข้อมูลจนาดใหญ่ที่ต้องใส่เข้าไปใน program การผลิตคำตอบออกมา 2 ครั้งเป็นอะไรที่ไม่ดีแน่ๆ รวมถึงการปรับ weight ของเราจำนวนที่ปรับได้ค่อนข้างจะตามอำเภอใจ ถ้าค่าที่เหมาะสมของ weight ที่เราสนใจไม่สามารถหาได้ด้วยการคูณด้วย step_amount เราก็จะไม่มีวันที่จะหา weight ที่เหมาะสมสำหรับ program ได้\n",
    "ดังนั้นสิ่งที่ต้องการคือวิธีการปรับ weight ที่ไม่ต้องใช้ neural network program คำนวณหลายรอบและค่าจำนวนที่ใช้ในการปรับ weight สามารถปรับเปลี่ยนได้ตามความเหมาะสม (ตาม error) เพื่อที่จะสามารถหา weight ที่เหมาะสมได้\n",
    "## การคำนวณหา direction และ amount สำหรับการปรับ weight\n",
    "ก่อนหน้านี้เรารู้แค่ direction ว่า weight ควรจะเพิ่มหรือลด แต่ว่าจำนวนที่ใช้ในการปรับเปลี่ยนเรากำหนดเอง แล้วถ้าเราอยากได้จำนวนคร่าวๆที่เหมาะสมในการปรับเปลี่ยน weight ละ แน่นอนมีวิธีและวิธีการนั้นเรียบง่ายมากเราหยิบเอาตัวแปรออกมา 2 ตัวเพื่อดูความสัมพันธ์จากนั้นดูต่อว่าถ้าเราปรับตัวแปรตัวหนึ่งแล้วตัวแปรอีกตัวมีการเปลี่ยนแปลงไปยังไง \n",
    ">Note: การหาความสัมพันธ์และทำความเข้าใจระหว่าง 2 ตัวแปรก็คือวิชา Calculus ที่เราเคยเรียนกันั่นเอง!\n",
    "\n",
    "\n",
    "แน่นอนว่าตัวแปรที่เราปรับได้คือ weight และตัวแปรที่เราสังเกตคือ error ว่าเมื่อเราปรับ weight ขึ้นไปนิดนึง error จะมีแนวโน้มยังไง นี่แหละ! เราได้ทั้ง direction และ amount ว่าแต่ทำไม amount ถึงใช้ได้ละลองคิดว่าถ้า error มีการเพิ่มขึ้นอย่างมาก แสดงว่าค่า weight ของเราอยู่ห่างจากค่า weight ที่เหมาะสมพอสมควร (เนื่องจากการคำนวณ error ของเรามีการยกกำลังด้วย)เพราะฉะนั้นเราสามารถปรับ weight ด้วย amount ขนาดใหญ่ตามที่ได้จากการคำนวณได้เลย"
   ]
  },
  {
   "cell_type": "code",
   "execution_count": 16,
   "metadata": {},
   "outputs": [
    {
     "name": "stdout",
     "output_type": "stream",
     "text": [
      "Error: 1.1700484786446364e-25 Prediction: 0.799999999999658\n"
     ]
    }
   ],
   "source": [
    "weight, goal_pred, x_input = (0.0, 0.8, 0.5)\n",
    "\n",
    "for iteration in range(100):\n",
    "    \n",
    "    pred = x_input * weight\n",
    "    error = (pred - goal_pred) ** 2\n",
    "    delta = pred - goal_pred # raw direction and amount\n",
    "    weight_delta = delta * x_input\n",
    "    weight = weight - weight_delta\n",
    "print(\"Error: {error} Prediction: {pred}\".format(error=error, pred=pred))"
   ]
  },
  {
   "cell_type": "markdown",
   "metadata": {},
   "source": [
    "เริ่มจาก delta คืออะไร? delta คือค่าผลต่างระหว่างคำตอบจาก program และคำตอบที่แท้จริง เป็นการบอกว่าคำตอบเราเนี่ย เยอะไปหรือน้อยไปจากคำตอบจริง ซึ่งค่าที่เราได้เราจะเอาไปบอก weight ที่เชื่อมกับ node นี้ต่อว่า นี่ๆ เจ้า weight ช่วยปรับค่าให้เป็น weight - (x_input x delta) หน่อย ถ้าทำตามที่บอก error จะลดลงแน่นอน\n",
    "> Important: delta คือค่าที่ได้จากการหา derivative ของ pred จากฟังก์ชัน error สุดท้ายเราจะได้ค่าออกมาเป็น pred - goal_pred (จริงๆต้องมีหาร 2 แต่ละเอาไว้เพื่อให้ง่ายต่อการคำนวณและไม่ส่งผลต่อการหา weight) ต่อมาทำการหาค่า derivative ของ weight แต่ละตัว จากฟังก์ชัน weight * x_input ผลลัพธ์ที่ได้คือ x_input สุดท้ายเราใช้ chain rule นำผลลัพธ์ delta มาคูณกับ x_input ก็จะได้ค่า weight_delta ออกมา ซึ่งค่านี้คือสิ่งที่ error ที่เปลี่ยนไป (ลดหรือเพิ่ม) เมื่อเราทำการปรับ weight เพิ่มขึ้นมานิดนึง และนำ weight_delta มาอัพเดท weight ปัจจุบันเพื่อลด error ลงมา\n",
    "## แต่บางทีทำไมการใช้ weight_delta ไม่เวิร์คนะ"
   ]
  },
  {
   "cell_type": "code",
   "execution_count": 18,
   "metadata": {},
   "outputs": [
    {
     "name": "stdout",
     "output_type": "stream",
     "text": [
      "Error: 5.403406870691965e+16 Prediction: -232452292.5999999\n"
     ]
    }
   ],
   "source": [
    "weight = 0.5\n",
    "goal_pred = 0.8\n",
    "x_input = 2\n",
    "\n",
    "for iteration in range(20):\n",
    "    pred = x_input * weight\n",
    "    error = (pred - goal_pred) ** 2\n",
    "    delta = pred - goal_pred\n",
    "    weight_delta = x_input * delta\n",
    "    weight = weight - weight_delta\n",
    "print(\"Error: {error} Prediction: {pred}\".format(error=error, pred=pred))"
   ]
  },
  {
   "cell_type": "markdown",
   "metadata": {},
   "source": [
    "เมื่อ input เรามีค่าเพิ่มขึ้นมากแสดงว่า x_input x delta มีโอกาสที่จะมีค่าที่สูงมาก แสดงว่าเราก้าวเท้าสำหรับการอัพเดทใหญ่เกินไปทำให้เกิด over shooting โดย weight เราจะมีการปรับไป ปรับมา และสุดท้ายก็เกิดการลู่ออก (divergence) ทำไมถึงเป็นอย่างงี้ละ?\n",
    "เนื่อจากพอ input เรามีค่ามากแสดงว่า การปรับ weight นิดเดียวก็ทำให้มีโอกาสที่จะเกิดการเปลี่ยนแปลงของค่า error ขึ้นมาก และเมื่อเกิดการเปลี่ยนแปลงของ error มาก program ก็จะคิดว่า weight ค่าปัจจุบันอยู่ห่างจากค่าที่ต้องการเยอะอยู่งั้นอัพเดทเยอะๆเลยละกัน ทั้งที่ weight ค่าปัจจุบันไม่ได้ห่างจาก weight เป้าหมายมาก สุดท้ายเมื่ออัพเดทก็จะเกิด error มากขึ้นในทิศทางตรงกันข้าม พอลองปรับ weight เพื่อดูการเปลี่ยนแปลงของค่า error ก็ได้ค่า error ที่เปลี่ยนแปลงจำนวนมากขึ้นไปอีก program ก็คิดว่าเราอยู่ไกลขึ้นไปอีกเลยปรับด้วยค่าจำนวนมากขึ้น สุดท้ายก็ได้ค่า error ที่มากขึ้นไปอีกในฝั่งตรงข้าม เป็นแบบนี้ไปเรื่อยๆจนตัว program มีโอกาสจะเกิด error ขึ้นมาจริงๆ (nan) แล้วทำยังไงดี แน่นอนเรามีวิธีจัดการ\n",
    "## ขอแนะนำ Alpha หรือ Learning Rate\n",
    "ก่อนที่จะอัพเดท weight เราก็ทำการคูณ weight_delta ด้วย alpha เพื่อควบคุม amount ให้ค่าเปลี่ยนแปลงไม่มากจนเกินไปจนเกิด over shooting"
   ]
  },
  {
   "cell_type": "code",
   "execution_count": 19,
   "metadata": {},
   "outputs": [
    {
     "name": "stdout",
     "output_type": "stream",
     "text": [
      "Error: 1.485277170987127e-10 Prediction: 0.8000121871948003\n"
     ]
    }
   ],
   "source": [
    "weight = 0.5\n",
    "x_input = 2\n",
    "goal_pred = 0.8\n",
    "alpha = 0.1\n",
    "\n",
    "for iteration in range(20):\n",
    "    pred = weight * x_input\n",
    "    error = (pred - goal_pred) ** 2\n",
    "    delta = pred - goal_pred\n",
    "    weight_delta = x_input * delta\n",
    "    weight = weight - (alpha * weight_delta)\n",
    "    \n",
    "print(\"Error: {error} Prediction: {pred}\".format(error=error, pred=pred))"
   ]
  },
  {
   "cell_type": "markdown",
   "metadata": {},
   "source": [
    "จะเห็นได้ว่า error เราสามารถลดลงได้หลาย level of order of magnitude และคำตอบที่ได้จาก neural network program ก็มีความถูกต้องตามที่ต้องการ\n",
    "สำหรับ Post นี้ โดยสรุปเราได้รู้ว่า neural network ทำงานยังไง ให้คำตอบออกมาได้ยังไง รวมถึงมีการเรียนรู้ขอตัวโปรแกรมได้ยังไง หวังว่าทุกคนจะสนุกและได้รับความรู้กันนะครับ"
   ]
  },
  {
   "cell_type": "markdown",
   "metadata": {},
   "source": [
    "\"You will understand something when you make it touching the reality.\""
   ]
  },
  {
   "cell_type": "markdown",
   "metadata": {},
   "source": [
    "Burin Sirisrimungkorn"
   ]
  },
  {
   "cell_type": "code",
   "execution_count": null,
   "metadata": {},
   "outputs": [],
   "source": []
  }
 ],
 "metadata": {
  "kernelspec": {
   "display_name": "Python 3",
   "language": "python",
   "name": "python3"
  },
  "language_info": {
   "codemirror_mode": {
    "name": "ipython",
    "version": 3
   },
   "file_extension": ".py",
   "mimetype": "text/x-python",
   "name": "python",
   "nbconvert_exporter": "python",
   "pygments_lexer": "ipython3",
   "version": "3.7.4"
  }
 },
 "nbformat": 4,
 "nbformat_minor": 2
}
